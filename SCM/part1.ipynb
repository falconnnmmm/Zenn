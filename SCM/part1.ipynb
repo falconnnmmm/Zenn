{
 "cells": [
  {
   "cell_type": "code",
   "execution_count": 164,
   "metadata": {},
   "outputs": [],
   "source": [
    "import numpy as np\n",
    "import plotly.graph_objects as go\n",
    "import pandas as pd\n",
    "import polars as pl\n",
    "from scipy.optimize import minimize\n",
    "from sklearn.linear_model import LinearRegression"
   ]
  },
  {
   "cell_type": "code",
   "execution_count": 47,
   "metadata": {},
   "outputs": [
    {
     "data": {
      "application/vnd.plotly.v1+json": {
       "config": {
        "plotlyServerURL": "https://plot.ly"
       },
       "data": [
        {
         "mode": "lines",
         "name": "observed",
         "type": "scatter",
         "x": [
          1,
          2,
          3,
          4,
          5,
          6,
          7,
          8,
          9,
          10
         ],
         "y": [
          -0.887260791191039,
          0.028191594323108353,
          -0.19589346075280767,
          -0.8043636070669846,
          0.21743197467329994,
          4.702939509164553,
          5.042920285757075,
          4.71559946956638,
          5.933854886084127,
          4.339540185361035
         ]
        },
        {
         "line": {
          "dash": "dash"
         },
         "mode": "lines",
         "name": "counterfactual",
         "type": "scatter",
         "x": [
          5,
          6,
          7,
          8,
          9,
          10
         ],
         "y": [
          0.21743197467329994,
          1.05857981867783,
          0.6493804744501123,
          0.2976699131125654,
          0.4220824803349484,
          0.23757403877061006
         ]
        },
        {
         "line": {
          "color": "gray"
         },
         "mode": "lines",
         "opacity": 0.3,
         "showlegend": false,
         "type": "scatter",
         "x": [
          1,
          2,
          3,
          4,
          5,
          6,
          7,
          8,
          9,
          10
         ],
         "y": [
          -2.580052524939139,
          -0.5592734377294463,
          -0.6615476099097777,
          -1.3855600738052385,
          0.5468801328621973,
          1.1195778523028137,
          0.6801995180326648,
          -0.6171753221531298,
          -0.1385671667580092,
          -0.6484534147675052
         ]
        },
        {
         "line": {
          "color": "gray"
         },
         "mode": "lines",
         "name": "control units",
         "opacity": 0.3,
         "type": "scatter",
         "x": [
          1,
          2,
          3,
          4,
          5,
          6,
          7,
          8,
          9,
          10
         ],
         "y": [
          -0.20676100648473467,
          0.1059615773717944,
          0.3681791121715845,
          1.1871842674976896,
          -3.252639924076216,
          0.38851161588483674,
          0.3316006842048066,
          0.36671066415341597,
          0.6723858056054716,
          -0.8666485829919532
         ]
        },
        {
         "line": {
          "color": "gray"
         },
         "mode": "lines",
         "opacity": 0.3,
         "showlegend": false,
         "type": "scatter",
         "x": [
          1,
          2,
          3,
          4,
          5,
          6,
          7,
          8,
          9,
          10
         ],
         "y": [
          0.1771216919669425,
          0.5630767821892455,
          1.6598446817606554,
          0.22153841346889966,
          -0.34265400613710967,
          0.8828031982736445,
          1.0172879493366065,
          0.8175455695056782,
          0.49996848733502447,
          -0.009306827894957919
         ]
        },
        {
         "line": {
          "color": "gray"
         },
         "mode": "lines",
         "opacity": 0.3,
         "showlegend": false,
         "type": "scatter",
         "x": [
          1,
          2,
          3,
          4,
          5,
          6,
          7,
          8,
          9,
          10
         ],
         "y": [
          -0.11896277334132882,
          -0.41132460421079925,
          -0.7749293293587926,
          0.10241379216249435,
          0.916114549833461,
          1.7272359706209004,
          1.663852655852546,
          -0.36774975199809457,
          -0.01097494222511397,
          0.8579947536219213
         ]
        },
        {
         "line": {
          "color": "gray"
         },
         "mode": "lines",
         "opacity": 0.3,
         "showlegend": false,
         "type": "scatter",
         "x": [
          1,
          2,
          3,
          4,
          5,
          6,
          7,
          8,
          9,
          10
         ],
         "y": [
          -1.5498587910488841,
          -1.0170626567541337,
          0.7634890648504615,
          -0.5451919181742128,
          -3.412594584537332,
          -0.5173958159833909,
          -1.3427144666555615,
          1.8307565394125485,
          2.1148387745277164,
          -2.2732018906446982
         ]
        },
        {
         "line": {
          "color": "gray"
         },
         "mode": "lines",
         "opacity": 0.3,
         "showlegend": false,
         "type": "scatter",
         "x": [
          1,
          2,
          3,
          4,
          5,
          6,
          7,
          8,
          9,
          10
         ],
         "y": [
          0.0012586780376897884,
          1.3675193818770615,
          -0.5906688175960353,
          0.5377863082455858,
          0.26567631299878897,
          0.4359083479507511,
          -0.5969425381693303,
          1.1183296971537584,
          -0.33622076210530677,
          -0.8034928809951624
         ]
        },
        {
         "line": {
          "color": "gray"
         },
         "mode": "lines",
         "opacity": 0.3,
         "showlegend": false,
         "type": "scatter",
         "x": [
          1,
          2,
          3,
          4,
          5,
          6,
          7,
          8,
          9,
          10
         ],
         "y": [
          0.30541237064844673,
          0.27659311586037744,
          -1.4307594043903107,
          -1.0553370052851971,
          0.33825374456517976,
          1.1530257275820368,
          0.24038094145354816,
          0.9975879037403795,
          1.0917293361254825,
          1.6658248434869984
         ]
        },
        {
         "line": {
          "color": "gray"
         },
         "mode": "lines",
         "opacity": 0.3,
         "showlegend": false,
         "type": "scatter",
         "x": [
          1,
          2,
          3,
          4,
          5,
          6,
          7,
          8,
          9,
          10
         ],
         "y": [
          0.5259342071707009,
          1.5698519198075247,
          -0.6613763945029824,
          -0.6798933439433182,
          -0.7403611381776843,
          0.41776151049070437,
          0.09894836338614806,
          -1.6855874279165097,
          -0.24798704882581002,
          0.2463342211171835
         ]
        },
        {
         "line": {
          "color": "gray"
         },
         "mode": "lines",
         "opacity": 0.3,
         "showlegend": false,
         "type": "scatter",
         "x": [
          1,
          2,
          3,
          4,
          5,
          6,
          7,
          8,
          9,
          10
         ],
         "y": [
          0.6906216710322659,
          -2.6366337724034765,
          0.45628347676020403,
          -0.875205902137769,
          0.130021853412017,
          -2.386023309229066,
          -0.006428077683967258,
          1.0670750710948036,
          0.1775238059598912,
          0.7863849776985015
         ]
        },
        {
         "line": {
          "color": "gray"
         },
         "mode": "lines",
         "opacity": 0.3,
         "showlegend": false,
         "type": "scatter",
         "x": [
          1,
          2,
          3,
          4,
          5,
          6,
          7,
          8,
          9,
          10
         ],
         "y": [
          0.6411424227438928,
          -0.78477350341478,
          -1.311621213098131,
          -0.6580527544940024,
          -0.7112974163374352,
          0.5462173696885291,
          0.44457814427765907,
          -0.36235027239636824,
          1.3233698433761512,
          0.497345684624267
         ]
        }
       ],
       "layout": {
        "shapes": [
         {
          "type": "line",
          "x0": 5,
          "x1": 5,
          "xref": "x",
          "y0": 0,
          "y1": 1,
          "yref": "y domain"
         }
        ],
        "template": {
         "data": {
          "bar": [
           {
            "error_x": {
             "color": "#2a3f5f"
            },
            "error_y": {
             "color": "#2a3f5f"
            },
            "marker": {
             "line": {
              "color": "#E5ECF6",
              "width": 0.5
             },
             "pattern": {
              "fillmode": "overlay",
              "size": 10,
              "solidity": 0.2
             }
            },
            "type": "bar"
           }
          ],
          "barpolar": [
           {
            "marker": {
             "line": {
              "color": "#E5ECF6",
              "width": 0.5
             },
             "pattern": {
              "fillmode": "overlay",
              "size": 10,
              "solidity": 0.2
             }
            },
            "type": "barpolar"
           }
          ],
          "carpet": [
           {
            "aaxis": {
             "endlinecolor": "#2a3f5f",
             "gridcolor": "white",
             "linecolor": "white",
             "minorgridcolor": "white",
             "startlinecolor": "#2a3f5f"
            },
            "baxis": {
             "endlinecolor": "#2a3f5f",
             "gridcolor": "white",
             "linecolor": "white",
             "minorgridcolor": "white",
             "startlinecolor": "#2a3f5f"
            },
            "type": "carpet"
           }
          ],
          "choropleth": [
           {
            "colorbar": {
             "outlinewidth": 0,
             "ticks": ""
            },
            "type": "choropleth"
           }
          ],
          "contour": [
           {
            "colorbar": {
             "outlinewidth": 0,
             "ticks": ""
            },
            "colorscale": [
             [
              0,
              "#0d0887"
             ],
             [
              0.1111111111111111,
              "#46039f"
             ],
             [
              0.2222222222222222,
              "#7201a8"
             ],
             [
              0.3333333333333333,
              "#9c179e"
             ],
             [
              0.4444444444444444,
              "#bd3786"
             ],
             [
              0.5555555555555556,
              "#d8576b"
             ],
             [
              0.6666666666666666,
              "#ed7953"
             ],
             [
              0.7777777777777778,
              "#fb9f3a"
             ],
             [
              0.8888888888888888,
              "#fdca26"
             ],
             [
              1,
              "#f0f921"
             ]
            ],
            "type": "contour"
           }
          ],
          "contourcarpet": [
           {
            "colorbar": {
             "outlinewidth": 0,
             "ticks": ""
            },
            "type": "contourcarpet"
           }
          ],
          "heatmap": [
           {
            "colorbar": {
             "outlinewidth": 0,
             "ticks": ""
            },
            "colorscale": [
             [
              0,
              "#0d0887"
             ],
             [
              0.1111111111111111,
              "#46039f"
             ],
             [
              0.2222222222222222,
              "#7201a8"
             ],
             [
              0.3333333333333333,
              "#9c179e"
             ],
             [
              0.4444444444444444,
              "#bd3786"
             ],
             [
              0.5555555555555556,
              "#d8576b"
             ],
             [
              0.6666666666666666,
              "#ed7953"
             ],
             [
              0.7777777777777778,
              "#fb9f3a"
             ],
             [
              0.8888888888888888,
              "#fdca26"
             ],
             [
              1,
              "#f0f921"
             ]
            ],
            "type": "heatmap"
           }
          ],
          "heatmapgl": [
           {
            "colorbar": {
             "outlinewidth": 0,
             "ticks": ""
            },
            "colorscale": [
             [
              0,
              "#0d0887"
             ],
             [
              0.1111111111111111,
              "#46039f"
             ],
             [
              0.2222222222222222,
              "#7201a8"
             ],
             [
              0.3333333333333333,
              "#9c179e"
             ],
             [
              0.4444444444444444,
              "#bd3786"
             ],
             [
              0.5555555555555556,
              "#d8576b"
             ],
             [
              0.6666666666666666,
              "#ed7953"
             ],
             [
              0.7777777777777778,
              "#fb9f3a"
             ],
             [
              0.8888888888888888,
              "#fdca26"
             ],
             [
              1,
              "#f0f921"
             ]
            ],
            "type": "heatmapgl"
           }
          ],
          "histogram": [
           {
            "marker": {
             "pattern": {
              "fillmode": "overlay",
              "size": 10,
              "solidity": 0.2
             }
            },
            "type": "histogram"
           }
          ],
          "histogram2d": [
           {
            "colorbar": {
             "outlinewidth": 0,
             "ticks": ""
            },
            "colorscale": [
             [
              0,
              "#0d0887"
             ],
             [
              0.1111111111111111,
              "#46039f"
             ],
             [
              0.2222222222222222,
              "#7201a8"
             ],
             [
              0.3333333333333333,
              "#9c179e"
             ],
             [
              0.4444444444444444,
              "#bd3786"
             ],
             [
              0.5555555555555556,
              "#d8576b"
             ],
             [
              0.6666666666666666,
              "#ed7953"
             ],
             [
              0.7777777777777778,
              "#fb9f3a"
             ],
             [
              0.8888888888888888,
              "#fdca26"
             ],
             [
              1,
              "#f0f921"
             ]
            ],
            "type": "histogram2d"
           }
          ],
          "histogram2dcontour": [
           {
            "colorbar": {
             "outlinewidth": 0,
             "ticks": ""
            },
            "colorscale": [
             [
              0,
              "#0d0887"
             ],
             [
              0.1111111111111111,
              "#46039f"
             ],
             [
              0.2222222222222222,
              "#7201a8"
             ],
             [
              0.3333333333333333,
              "#9c179e"
             ],
             [
              0.4444444444444444,
              "#bd3786"
             ],
             [
              0.5555555555555556,
              "#d8576b"
             ],
             [
              0.6666666666666666,
              "#ed7953"
             ],
             [
              0.7777777777777778,
              "#fb9f3a"
             ],
             [
              0.8888888888888888,
              "#fdca26"
             ],
             [
              1,
              "#f0f921"
             ]
            ],
            "type": "histogram2dcontour"
           }
          ],
          "mesh3d": [
           {
            "colorbar": {
             "outlinewidth": 0,
             "ticks": ""
            },
            "type": "mesh3d"
           }
          ],
          "parcoords": [
           {
            "line": {
             "colorbar": {
              "outlinewidth": 0,
              "ticks": ""
             }
            },
            "type": "parcoords"
           }
          ],
          "pie": [
           {
            "automargin": true,
            "type": "pie"
           }
          ],
          "scatter": [
           {
            "fillpattern": {
             "fillmode": "overlay",
             "size": 10,
             "solidity": 0.2
            },
            "type": "scatter"
           }
          ],
          "scatter3d": [
           {
            "line": {
             "colorbar": {
              "outlinewidth": 0,
              "ticks": ""
             }
            },
            "marker": {
             "colorbar": {
              "outlinewidth": 0,
              "ticks": ""
             }
            },
            "type": "scatter3d"
           }
          ],
          "scattercarpet": [
           {
            "marker": {
             "colorbar": {
              "outlinewidth": 0,
              "ticks": ""
             }
            },
            "type": "scattercarpet"
           }
          ],
          "scattergeo": [
           {
            "marker": {
             "colorbar": {
              "outlinewidth": 0,
              "ticks": ""
             }
            },
            "type": "scattergeo"
           }
          ],
          "scattergl": [
           {
            "marker": {
             "colorbar": {
              "outlinewidth": 0,
              "ticks": ""
             }
            },
            "type": "scattergl"
           }
          ],
          "scattermapbox": [
           {
            "marker": {
             "colorbar": {
              "outlinewidth": 0,
              "ticks": ""
             }
            },
            "type": "scattermapbox"
           }
          ],
          "scatterpolar": [
           {
            "marker": {
             "colorbar": {
              "outlinewidth": 0,
              "ticks": ""
             }
            },
            "type": "scatterpolar"
           }
          ],
          "scatterpolargl": [
           {
            "marker": {
             "colorbar": {
              "outlinewidth": 0,
              "ticks": ""
             }
            },
            "type": "scatterpolargl"
           }
          ],
          "scatterternary": [
           {
            "marker": {
             "colorbar": {
              "outlinewidth": 0,
              "ticks": ""
             }
            },
            "type": "scatterternary"
           }
          ],
          "surface": [
           {
            "colorbar": {
             "outlinewidth": 0,
             "ticks": ""
            },
            "colorscale": [
             [
              0,
              "#0d0887"
             ],
             [
              0.1111111111111111,
              "#46039f"
             ],
             [
              0.2222222222222222,
              "#7201a8"
             ],
             [
              0.3333333333333333,
              "#9c179e"
             ],
             [
              0.4444444444444444,
              "#bd3786"
             ],
             [
              0.5555555555555556,
              "#d8576b"
             ],
             [
              0.6666666666666666,
              "#ed7953"
             ],
             [
              0.7777777777777778,
              "#fb9f3a"
             ],
             [
              0.8888888888888888,
              "#fdca26"
             ],
             [
              1,
              "#f0f921"
             ]
            ],
            "type": "surface"
           }
          ],
          "table": [
           {
            "cells": {
             "fill": {
              "color": "#EBF0F8"
             },
             "line": {
              "color": "white"
             }
            },
            "header": {
             "fill": {
              "color": "#C8D4E3"
             },
             "line": {
              "color": "white"
             }
            },
            "type": "table"
           }
          ]
         },
         "layout": {
          "annotationdefaults": {
           "arrowcolor": "#2a3f5f",
           "arrowhead": 0,
           "arrowwidth": 1
          },
          "autotypenumbers": "strict",
          "coloraxis": {
           "colorbar": {
            "outlinewidth": 0,
            "ticks": ""
           }
          },
          "colorscale": {
           "diverging": [
            [
             0,
             "#8e0152"
            ],
            [
             0.1,
             "#c51b7d"
            ],
            [
             0.2,
             "#de77ae"
            ],
            [
             0.3,
             "#f1b6da"
            ],
            [
             0.4,
             "#fde0ef"
            ],
            [
             0.5,
             "#f7f7f7"
            ],
            [
             0.6,
             "#e6f5d0"
            ],
            [
             0.7,
             "#b8e186"
            ],
            [
             0.8,
             "#7fbc41"
            ],
            [
             0.9,
             "#4d9221"
            ],
            [
             1,
             "#276419"
            ]
           ],
           "sequential": [
            [
             0,
             "#0d0887"
            ],
            [
             0.1111111111111111,
             "#46039f"
            ],
            [
             0.2222222222222222,
             "#7201a8"
            ],
            [
             0.3333333333333333,
             "#9c179e"
            ],
            [
             0.4444444444444444,
             "#bd3786"
            ],
            [
             0.5555555555555556,
             "#d8576b"
            ],
            [
             0.6666666666666666,
             "#ed7953"
            ],
            [
             0.7777777777777778,
             "#fb9f3a"
            ],
            [
             0.8888888888888888,
             "#fdca26"
            ],
            [
             1,
             "#f0f921"
            ]
           ],
           "sequentialminus": [
            [
             0,
             "#0d0887"
            ],
            [
             0.1111111111111111,
             "#46039f"
            ],
            [
             0.2222222222222222,
             "#7201a8"
            ],
            [
             0.3333333333333333,
             "#9c179e"
            ],
            [
             0.4444444444444444,
             "#bd3786"
            ],
            [
             0.5555555555555556,
             "#d8576b"
            ],
            [
             0.6666666666666666,
             "#ed7953"
            ],
            [
             0.7777777777777778,
             "#fb9f3a"
            ],
            [
             0.8888888888888888,
             "#fdca26"
            ],
            [
             1,
             "#f0f921"
            ]
           ]
          },
          "colorway": [
           "#636efa",
           "#EF553B",
           "#00cc96",
           "#ab63fa",
           "#FFA15A",
           "#19d3f3",
           "#FF6692",
           "#B6E880",
           "#FF97FF",
           "#FECB52"
          ],
          "font": {
           "color": "#2a3f5f"
          },
          "geo": {
           "bgcolor": "white",
           "lakecolor": "white",
           "landcolor": "#E5ECF6",
           "showlakes": true,
           "showland": true,
           "subunitcolor": "white"
          },
          "hoverlabel": {
           "align": "left"
          },
          "hovermode": "closest",
          "mapbox": {
           "style": "light"
          },
          "paper_bgcolor": "white",
          "plot_bgcolor": "#E5ECF6",
          "polar": {
           "angularaxis": {
            "gridcolor": "white",
            "linecolor": "white",
            "ticks": ""
           },
           "bgcolor": "#E5ECF6",
           "radialaxis": {
            "gridcolor": "white",
            "linecolor": "white",
            "ticks": ""
           }
          },
          "scene": {
           "xaxis": {
            "backgroundcolor": "#E5ECF6",
            "gridcolor": "white",
            "gridwidth": 2,
            "linecolor": "white",
            "showbackground": true,
            "ticks": "",
            "zerolinecolor": "white"
           },
           "yaxis": {
            "backgroundcolor": "#E5ECF6",
            "gridcolor": "white",
            "gridwidth": 2,
            "linecolor": "white",
            "showbackground": true,
            "ticks": "",
            "zerolinecolor": "white"
           },
           "zaxis": {
            "backgroundcolor": "#E5ECF6",
            "gridcolor": "white",
            "gridwidth": 2,
            "linecolor": "white",
            "showbackground": true,
            "ticks": "",
            "zerolinecolor": "white"
           }
          },
          "shapedefaults": {
           "line": {
            "color": "#2a3f5f"
           }
          },
          "ternary": {
           "aaxis": {
            "gridcolor": "white",
            "linecolor": "white",
            "ticks": ""
           },
           "baxis": {
            "gridcolor": "white",
            "linecolor": "white",
            "ticks": ""
           },
           "bgcolor": "#E5ECF6",
           "caxis": {
            "gridcolor": "white",
            "linecolor": "white",
            "ticks": ""
           }
          },
          "title": {
           "x": 0.05
          },
          "xaxis": {
           "automargin": true,
           "gridcolor": "white",
           "linecolor": "white",
           "ticks": "",
           "title": {
            "standoff": 15
           },
           "zerolinecolor": "white",
           "zerolinewidth": 2
          },
          "yaxis": {
           "automargin": true,
           "gridcolor": "white",
           "linecolor": "white",
           "ticks": "",
           "title": {
            "standoff": 15
           },
           "zerolinecolor": "white",
           "zerolinewidth": 2
          }
         }
        },
        "xaxis": {
         "title": {
          "text": "time"
         }
        },
        "yaxis": {
         "title": {
          "text": "outcome"
         }
        }
       }
      }
     },
     "metadata": {},
     "output_type": "display_data"
    }
   ],
   "source": [
    "N = 10 # control units\n",
    "T = 10 # observed periods\n",
    "T0 = 5 # intervention time\n",
    "\n",
    "# Y(0) ~ N(0, 1)\n",
    "# Y(1) ~ N(4, 1)\n",
    "np.random.seed(20240209)\n",
    "weight = np.array(\n",
    "    [0.4, 0.0, 0.3, 0.0, 0.0, 0.0, 0.3, 0.0, 0.0, 0.0]\n",
    ")\n",
    "Y_control = np.random.normal(0, 1, size=(N, T))\n",
    "Y0 = weight @ Y_control\n",
    "Y0_observed = np.concatenate(\n",
    "    [\n",
    "        Y0[:T0], np.random.normal(5, 1, T-T0)\n",
    "    ]\n",
    ")\n",
    "Y0_counterfactual = Y0\n",
    "\n",
    "\n",
    "fig = go.Figure()\n",
    "fig.add_trace(\n",
    "    go.Scatter(\n",
    "        x=np.arange(1, T+1),\n",
    "        y=Y0_observed,\n",
    "        mode='lines',\n",
    "        name='observed'\n",
    "    )\n",
    ")\n",
    "fig.add_trace(\n",
    "    go.Scatter(\n",
    "        x=np.arange(T0, T+1),\n",
    "        y=Y0_counterfactual[T0-1:],\n",
    "        name='counterfactual',\n",
    "        line=dict(\n",
    "            dash='dash'\n",
    "        ),\n",
    "        mode='lines'\n",
    "    )\n",
    ")\n",
    "for i in range(N):\n",
    "    if i==1:\n",
    "        fig.add_trace(\n",
    "            go.Scatter(\n",
    "                x=np.arange(1, T+1),\n",
    "                y=Y_control[i, :],\n",
    "                name='control units',\n",
    "                opacity=0.3,\n",
    "                line=dict(\n",
    "                    color='gray'\n",
    "                ),\n",
    "                mode='lines',\n",
    "            )\n",
    "        )\n",
    "    else:\n",
    "        fig.add_trace(\n",
    "            go.Scatter(\n",
    "                x=np.arange(1, T+1),\n",
    "                y=Y_control[i, :],\n",
    "                opacity=0.3,\n",
    "                line=dict(\n",
    "                    color='gray'\n",
    "                ),\n",
    "                mode='lines',\n",
    "                showlegend=False\n",
    "            )\n",
    "        )\n",
    "fig.add_vline(\n",
    "    x=5\n",
    ")\n",
    "fig.update_layout(\n",
    "    xaxis_title='time',\n",
    "    yaxis_title='outcome'\n",
    ")\n",
    "fig.show()"
   ]
  },
  {
   "cell_type": "code",
   "execution_count": 192,
   "metadata": {},
   "outputs": [
    {
     "data": {
      "text/html": [
       "<div><style>\n",
       ".dataframe > thead > tr,\n",
       ".dataframe > tbody > tr {\n",
       "  text-align: right;\n",
       "  white-space: pre-wrap;\n",
       "}\n",
       "</style>\n",
       "<small>shape: (31, 79)</small><table border=\"1\" class=\"dataframe\"><thead><tr><th>year</th><th>cigsale_state_Alabama</th><th>cigsale_state_Arkansas</th><th>cigsale_state_California</th><th>cigsale_state_Colorado</th><th>cigsale_state_Connecticut</th><th>cigsale_state_Delaware</th><th>cigsale_state_Georgia</th><th>cigsale_state_Idaho</th><th>cigsale_state_Illinois</th><th>cigsale_state_Indiana</th><th>cigsale_state_Iowa</th><th>cigsale_state_Kansas</th><th>cigsale_state_Kentucky</th><th>cigsale_state_Louisiana</th><th>cigsale_state_Maine</th><th>cigsale_state_Minnesota</th><th>cigsale_state_Mississippi</th><th>cigsale_state_Missouri</th><th>cigsale_state_Montana</th><th>cigsale_state_Nebraska</th><th>cigsale_state_Nevada</th><th>cigsale_state_New Hampshire</th><th>cigsale_state_New Mexico</th><th>cigsale_state_North Carolina</th><th>cigsale_state_North Dakota</th><th>cigsale_state_Ohio</th><th>cigsale_state_Oklahoma</th><th>cigsale_state_Pennsylvania</th><th>cigsale_state_Rhode Island</th><th>cigsale_state_South Carolina</th><th>cigsale_state_South Dakota</th><th>cigsale_state_Tennessee</th><th>cigsale_state_Texas</th><th>cigsale_state_Utah</th><th>cigsale_state_Vermont</th><th>cigsale_state_Virginia</th><th>&hellip;</th><th>retprice_state_California</th><th>retprice_state_Colorado</th><th>retprice_state_Connecticut</th><th>retprice_state_Delaware</th><th>retprice_state_Georgia</th><th>retprice_state_Idaho</th><th>retprice_state_Illinois</th><th>retprice_state_Indiana</th><th>retprice_state_Iowa</th><th>retprice_state_Kansas</th><th>retprice_state_Kentucky</th><th>retprice_state_Louisiana</th><th>retprice_state_Maine</th><th>retprice_state_Minnesota</th><th>retprice_state_Mississippi</th><th>retprice_state_Missouri</th><th>retprice_state_Montana</th><th>retprice_state_Nebraska</th><th>retprice_state_Nevada</th><th>retprice_state_New Hampshire</th><th>retprice_state_New Mexico</th><th>retprice_state_North Carolina</th><th>retprice_state_North Dakota</th><th>retprice_state_Ohio</th><th>retprice_state_Oklahoma</th><th>retprice_state_Pennsylvania</th><th>retprice_state_Rhode Island</th><th>retprice_state_South Carolina</th><th>retprice_state_South Dakota</th><th>retprice_state_Tennessee</th><th>retprice_state_Texas</th><th>retprice_state_Utah</th><th>retprice_state_Vermont</th><th>retprice_state_Virginia</th><th>retprice_state_West Virginia</th><th>retprice_state_Wisconsin</th><th>retprice_state_Wyoming</th></tr><tr><td>f32</td><td>f32</td><td>f32</td><td>f32</td><td>f32</td><td>f32</td><td>f32</td><td>f32</td><td>f32</td><td>f32</td><td>f32</td><td>f32</td><td>f32</td><td>f32</td><td>f32</td><td>f32</td><td>f32</td><td>f32</td><td>f32</td><td>f32</td><td>f32</td><td>f32</td><td>f32</td><td>f32</td><td>f32</td><td>f32</td><td>f32</td><td>f32</td><td>f32</td><td>f32</td><td>f32</td><td>f32</td><td>f32</td><td>f32</td><td>f32</td><td>f32</td><td>f32</td><td>&hellip;</td><td>f32</td><td>f32</td><td>f32</td><td>f32</td><td>f32</td><td>f32</td><td>f32</td><td>f32</td><td>f32</td><td>f32</td><td>f32</td><td>f32</td><td>f32</td><td>f32</td><td>f32</td><td>f32</td><td>f32</td><td>f32</td><td>f32</td><td>f32</td><td>f32</td><td>f32</td><td>f32</td><td>f32</td><td>f32</td><td>f32</td><td>f32</td><td>f32</td><td>f32</td><td>f32</td><td>f32</td><td>f32</td><td>f32</td><td>f32</td><td>f32</td><td>f32</td><td>f32</td></tr></thead><tbody><tr><td>1970.0</td><td>89.800003</td><td>100.300003</td><td>123.0</td><td>124.800003</td><td>120.0</td><td>155.0</td><td>109.900002</td><td>102.400002</td><td>124.800003</td><td>134.600006</td><td>108.5</td><td>114.0</td><td>155.800003</td><td>115.900002</td><td>128.5</td><td>104.300003</td><td>93.400002</td><td>121.300003</td><td>111.199997</td><td>108.099998</td><td>189.5</td><td>265.700012</td><td>90.0</td><td>172.399994</td><td>93.800003</td><td>121.599998</td><td>108.400002</td><td>107.300003</td><td>123.900002</td><td>103.599998</td><td>92.699997</td><td>99.800003</td><td>106.400002</td><td>65.5</td><td>122.599998</td><td>124.300003</td><td>&hellip;</td><td>38.799999</td><td>29.4</td><td>42.200001</td><td>39.0</td><td>34.299999</td><td>33.799999</td><td>41.400002</td><td>30.6</td><td>37.700001</td><td>34.200001</td><td>28.299999</td><td>34.299999</td><td>38.0</td><td>39.099998</td><td>36.200001</td><td>36.0</td><td>34.0</td><td>33.900002</td><td>38.900002</td><td>31.4</td><td>39.700001</td><td>27.299999</td><td>37.299999</td><td>36.599998</td><td>38.400002</td><td>38.400002</td><td>39.299999</td><td>32.5</td><td>38.5</td><td>39.900002</td><td>40.400002</td><td>34.599998</td><td>37.700001</td><td>28.799999</td><td>33.700001</td><td>38.5</td><td>34.099998</td></tr><tr><td>1971.0</td><td>95.400002</td><td>104.099998</td><td>121.0</td><td>125.5</td><td>117.599998</td><td>161.100006</td><td>115.699997</td><td>108.5</td><td>125.599998</td><td>139.300003</td><td>108.400002</td><td>102.800003</td><td>163.5</td><td>119.800003</td><td>133.199997</td><td>116.400002</td><td>105.400002</td><td>127.599998</td><td>115.599998</td><td>108.599998</td><td>190.5</td><td>278.0</td><td>92.599998</td><td>187.600006</td><td>98.5</td><td>124.599998</td><td>115.400002</td><td>106.300003</td><td>123.199997</td><td>115.0</td><td>96.699997</td><td>106.300003</td><td>108.900002</td><td>67.699997</td><td>124.400002</td><td>128.399994</td><td>&hellip;</td><td>39.700001</td><td>31.1</td><td>45.5</td><td>41.299999</td><td>35.799999</td><td>33.599998</td><td>41.400002</td><td>32.200001</td><td>38.5</td><td>38.900002</td><td>30.1</td><td>39.299999</td><td>38.799999</td><td>40.099998</td><td>37.5</td><td>36.799999</td><td>34.700001</td><td>34.700001</td><td>44.0</td><td>34.099998</td><td>41.700001</td><td>29.4</td><td>38.900002</td><td>38.099998</td><td>39.799999</td><td>44.700001</td><td>40.200001</td><td>34.299999</td><td>38.5</td><td>41.599998</td><td>42.0</td><td>36.599998</td><td>39.5</td><td>30.200001</td><td>41.599998</td><td>40.200001</td><td>34.400002</td></tr><tr><td>1972.0</td><td>101.099998</td><td>103.900002</td><td>123.5</td><td>134.300003</td><td>110.800003</td><td>156.300003</td><td>117.0</td><td>126.099998</td><td>126.599998</td><td>149.199997</td><td>109.400002</td><td>111.0</td><td>179.399994</td><td>125.300003</td><td>136.5</td><td>96.800003</td><td>112.099998</td><td>130.0</td><td>122.199997</td><td>104.900002</td><td>198.600006</td><td>296.200012</td><td>99.300003</td><td>214.100006</td><td>103.800003</td><td>124.400002</td><td>121.699997</td><td>109.0</td><td>134.399994</td><td>118.699997</td><td>103.0</td><td>111.5</td><td>108.599998</td><td>71.300003</td><td>138.0</td><td>137.0</td><td>&hellip;</td><td>39.900002</td><td>31.200001</td><td>51.299999</td><td>44.700001</td><td>40.900002</td><td>33.700001</td><td>41.900002</td><td>32.5</td><td>41.900002</td><td>38.799999</td><td>30.6</td><td>40.0</td><td>41.5</td><td>45.200001</td><td>37.400002</td><td>37.700001</td><td>40.099998</td><td>41.099998</td><td>40.599998</td><td>36.099998</td><td>41.099998</td><td>28.700001</td><td>38.900002</td><td>38.400002</td><td>39.799999</td><td>44.700001</td><td>41.599998</td><td>34.099998</td><td>39.099998</td><td>41.599998</td><td>46.900002</td><td>37.200001</td><td>40.0</td><td>29.9</td><td>41.299999</td><td>40.299999</td><td>34.400002</td></tr><tr><td>1973.0</td><td>102.900002</td><td>108.0</td><td>124.400002</td><td>137.899994</td><td>109.300003</td><td>154.699997</td><td>119.800003</td><td>121.800003</td><td>124.400002</td><td>156.0</td><td>110.599998</td><td>115.199997</td><td>201.899994</td><td>126.699997</td><td>138.0</td><td>106.800003</td><td>115.0</td><td>132.100006</td><td>119.900002</td><td>106.599998</td><td>201.5</td><td>279.0</td><td>98.900002</td><td>226.5</td><td>108.699997</td><td>120.5</td><td>124.099998</td><td>110.699997</td><td>142.0</td><td>125.5</td><td>103.5</td><td>109.699997</td><td>110.400002</td><td>72.699997</td><td>146.800003</td><td>143.100006</td><td>&hellip;</td><td>39.900002</td><td>32.700001</td><td>50.599998</td><td>44.0</td><td>42.400002</td><td>36.299999</td><td>41.0</td><td>32.900002</td><td>41.900002</td><td>39.299999</td><td>30.6</td><td>39.900002</td><td>41.0</td><td>45.599998</td><td>37.299999</td><td>37.700001</td><td>40.900002</td><td>41.200001</td><td>40.299999</td><td>36.900002</td><td>41.799999</td><td>28.9</td><td>39.400002</td><td>42.0</td><td>40.400002</td><td>44.900002</td><td>40.599998</td><td>33.5</td><td>39.599998</td><td>40.799999</td><td>46.400002</td><td>36.5</td><td>39.799999</td><td>30.1</td><td>39.900002</td><td>42.599998</td><td>34.400002</td></tr><tr><td>1974.0</td><td>108.199997</td><td>109.699997</td><td>126.699997</td><td>132.800003</td><td>112.400002</td><td>151.300003</td><td>123.699997</td><td>125.599998</td><td>131.899994</td><td>159.600006</td><td>116.099998</td><td>118.599998</td><td>212.399994</td><td>129.899994</td><td>142.100006</td><td>110.599998</td><td>117.099998</td><td>135.399994</td><td>121.900002</td><td>110.5</td><td>204.699997</td><td>269.799988</td><td>100.300003</td><td>227.300003</td><td>110.5</td><td>122.099998</td><td>130.5</td><td>114.199997</td><td>146.100006</td><td>129.699997</td><td>108.400002</td><td>114.800003</td><td>114.699997</td><td>75.599998</td><td>151.800003</td><td>149.600006</td><td>&hellip;</td><td>41.900002</td><td>38.099998</td><td>52.5</td><td>44.200001</td><td>42.400002</td><td>38.0</td><td>41.900002</td><td>34.5</td><td>43.200001</td><td>40.200001</td><td>31.5</td><td>41.599998</td><td>41.799999</td><td>47.0</td><td>41.400002</td><td>38.0</td><td>41.799999</td><td>42.0</td><td>41.900002</td><td>37.900002</td><td>43.700001</td><td>30.1</td><td>39.900002</td><td>42.900002</td><td>41.0</td><td>46.599998</td><td>41.299999</td><td>35.200001</td><td>40.400002</td><td>42.5</td><td>47.5</td><td>37.799999</td><td>41.299999</td><td>31.299999</td><td>42.0</td><td>43.900002</td><td>35.799999</td></tr><tr><td>1975.0</td><td>111.699997</td><td>114.800003</td><td>127.099998</td><td>131.0</td><td>110.199997</td><td>147.600006</td><td>122.900002</td><td>123.300003</td><td>131.800003</td><td>162.399994</td><td>120.5</td><td>123.400002</td><td>223.0</td><td>133.600006</td><td>140.699997</td><td>111.5</td><td>116.800003</td><td>135.600006</td><td>123.699997</td><td>114.099998</td><td>205.199997</td><td>269.100006</td><td>103.099998</td><td>226.0</td><td>117.900002</td><td>122.5</td><td>132.899994</td><td>114.599998</td><td>154.699997</td><td>130.5</td><td>113.5</td><td>117.400002</td><td>116.0</td><td>75.800003</td><td>155.5</td><td>152.699997</td><td>&hellip;</td><td>45.0</td><td>41.700001</td><td>54.5</td><td>45.900002</td><td>44.5</td><td>40.299999</td><td>45.200001</td><td>36.700001</td><td>45.400002</td><td>42.700001</td><td>33.299999</td><td>44.299999</td><td>46.700001</td><td>49.400002</td><td>43.0</td><td>43.5</td><td>43.700001</td><td>44.599998</td><td>44.5</td><td>40.799999</td><td>46.299999</td><td>32.900002</td><td>42.599998</td><td>46.0</td><td>43.599998</td><td>49.799999</td><td>44.299999</td><td>38.099998</td><td>42.799999</td><td>45.299999</td><td>50.599998</td><td>40.5</td><td>41.799999</td><td>33.599998</td><td>45.200001</td><td>46.599998</td><td>38.599998</td></tr><tr><td>1976.0</td><td>116.199997</td><td>119.099998</td><td>128.0</td><td>134.199997</td><td>113.400002</td><td>153.0</td><td>125.900002</td><td>125.099998</td><td>134.399994</td><td>166.600006</td><td>124.400002</td><td>127.699997</td><td>230.899994</td><td>139.600006</td><td>144.899994</td><td>116.699997</td><td>120.900002</td><td>139.5</td><td>124.900002</td><td>118.099998</td><td>201.399994</td><td>290.5</td><td>102.400002</td><td>230.199997</td><td>125.400002</td><td>124.599998</td><td>138.600006</td><td>118.800003</td><td>150.199997</td><td>136.800003</td><td>116.699997</td><td>121.699997</td><td>121.400002</td><td>77.900002</td><td>171.100006</td><td>158.100006</td><td>&hellip;</td><td>48.299999</td><td>44.799999</td><td>57.599998</td><td>50.099998</td><td>47.900002</td><td>42.5</td><td>48.400002</td><td>38.700001</td><td>47.799999</td><td>46.599998</td><td>36.0</td><td>48.099998</td><td>49.900002</td><td>52.099998</td><td>46.400002</td><td>44.700001</td><td>45.299999</td><td>46.799999</td><td>44.900002</td><td>43.900002</td><td>49.5</td><td>35.799999</td><td>45.900002</td><td>48.5</td><td>46.400002</td><td>52.299999</td><td>52.200001</td><td>41.0</td><td>45.0</td><td>48.299999</td><td>53.299999</td><td>43.400002</td><td>47.099998</td><td>37.900002</td><td>48.400002</td><td>51.299999</td><td>42.599998</td></tr><tr><td>1977.0</td><td>117.099998</td><td>122.599998</td><td>126.400002</td><td>132.0</td><td>117.300003</td><td>153.300003</td><td>127.900002</td><td>125.0</td><td>134.0</td><td>173.0</td><td>125.5</td><td>127.900002</td><td>229.399994</td><td>140.0</td><td>145.600006</td><td>117.199997</td><td>122.099998</td><td>140.800003</td><td>127.0</td><td>117.699997</td><td>190.800003</td><td>278.799988</td><td>102.400002</td><td>217.0</td><td>122.199997</td><td>127.300003</td><td>140.399994</td><td>120.099998</td><td>148.800003</td><td>137.199997</td><td>115.599998</td><td>124.599998</td><td>124.199997</td><td>78.0</td><td>169.399994</td><td>157.699997</td><td>&hellip;</td><td>49.0</td><td>44.700001</td><td>58.400002</td><td>51.700001</td><td>49.5</td><td>45.599998</td><td>49.400002</td><td>40.599998</td><td>49.400002</td><td>48.099998</td><td>36.900002</td><td>48.900002</td><td>50.900002</td><td>53.099998</td><td>48.799999</td><td>45.900002</td><td>47.599998</td><td>48.099998</td><td>49.299999</td><td>45.0</td><td>51.599998</td><td>36.599998</td><td>47.400002</td><td>49.799999</td><td>47.900002</td><td>53.299999</td><td>52.299999</td><td>42.200001</td><td>46.400002</td><td>49.599998</td><td>53.299999</td><td>44.700001</td><td>47.0</td><td>38.400002</td><td>48.900002</td><td>52.099998</td><td>43.400002</td></tr><tr><td>1978.0</td><td>123.0</td><td>127.300003</td><td>126.099998</td><td>129.199997</td><td>117.5</td><td>155.5</td><td>130.600006</td><td>122.800003</td><td>136.699997</td><td>150.899994</td><td>127.099998</td><td>127.099998</td><td>224.699997</td><td>142.699997</td><td>143.899994</td><td>118.900002</td><td>124.900002</td><td>141.800003</td><td>127.199997</td><td>117.400002</td><td>187.0</td><td>269.600006</td><td>103.099998</td><td>205.5</td><td>121.900002</td><td>131.300003</td><td>143.600006</td><td>122.300003</td><td>146.800003</td><td>140.399994</td><td>116.900002</td><td>127.300003</td><td>126.599998</td><td>79.599998</td><td>162.399994</td><td>155.899994</td><td>&hellip;</td><td>58.700001</td><td>57.400002</td><td>61.700001</td><td>58.700001</td><td>54.700001</td><td>51.5</td><td>54.599998</td><td>50.0</td><td>54.599998</td><td>52.599998</td><td>41.400002</td><td>54.200001</td><td>55.0</td><td>57.900002</td><td>53.599998</td><td>49.900002</td><td>51.900002</td><td>53.599998</td><td>54.299999</td><td>49.700001</td><td>56.0</td><td>41.799999</td><td>53.200001</td><td>53.900002</td><td>53.099998</td><td>57.400002</td><td>56.299999</td><td>49.200001</td><td>53.200001</td><td>54.799999</td><td>59.099998</td><td>49.5</td><td>52.5</td><td>42.799999</td><td>53.900002</td><td>57.099998</td><td>49.799999</td></tr><tr><td>1979.0</td><td>121.400002</td><td>126.5</td><td>121.900002</td><td>131.5</td><td>117.400002</td><td>150.199997</td><td>131.0</td><td>117.5</td><td>135.300003</td><td>148.899994</td><td>124.199997</td><td>126.400002</td><td>214.899994</td><td>140.100006</td><td>138.5</td><td>118.300003</td><td>123.900002</td><td>140.199997</td><td>120.300003</td><td>116.099998</td><td>183.300003</td><td>254.600006</td><td>101.0</td><td>197.300003</td><td>121.300003</td><td>130.899994</td><td>141.600006</td><td>122.599998</td><td>145.800003</td><td>135.699997</td><td>117.400002</td><td>127.199997</td><td>126.400002</td><td>79.099998</td><td>160.899994</td><td>151.800003</td><td>&hellip;</td><td>60.099998</td><td>52.799999</td><td>64.400002</td><td>60.0</td><td>56.599998</td><td>55.400002</td><td>56.799999</td><td>52.5</td><td>56.400002</td><td>54.799999</td><td>43.400002</td><td>57.099998</td><td>54.5</td><td>60.900002</td><td>56.5</td><td>52.200001</td><td>53.700001</td><td>55.400002</td><td>57.099998</td><td>53.200001</td><td>57.599998</td><td>43.700001</td><td>55.0</td><td>56.299999</td><td>55.5</td><td>60.599998</td><td>58.700001</td><td>50.200001</td><td>54.099998</td><td>57.299999</td><td>62.200001</td><td>53.700001</td><td>54.799999</td><td>45.799999</td><td>62.400002</td><td>58.700001</td><td>51.700001</td></tr><tr><td>1980.0</td><td>123.199997</td><td>131.800003</td><td>120.199997</td><td>131.0</td><td>118.0</td><td>150.5</td><td>134.0</td><td>115.199997</td><td>135.199997</td><td>146.899994</td><td>124.599998</td><td>127.099998</td><td>215.300003</td><td>143.800003</td><td>141.199997</td><td>117.699997</td><td>127.0</td><td>142.100006</td><td>122.0</td><td>116.300003</td><td>177.699997</td><td>247.800003</td><td>102.699997</td><td>187.800003</td><td>123.699997</td><td>133.5</td><td>141.600006</td><td>124.0</td><td>149.300003</td><td>138.300003</td><td>114.699997</td><td>130.399994</td><td>129.699997</td><td>74.800003</td><td>161.600006</td><td>148.899994</td><td>&hellip;</td><td>62.099998</td><td>54.599998</td><td>67.0</td><td>62.700001</td><td>59.299999</td><td>56.400002</td><td>60.0</td><td>53.700001</td><td>58.799999</td><td>58.299999</td><td>46.299999</td><td>60.0</td><td>59.0</td><td>63.0</td><td>59.700001</td><td>57.299999</td><td>56.700001</td><td>59.5</td><td>63.099998</td><td>55.299999</td><td>62.599998</td><td>47.299999</td><td>59.599998</td><td>58.700001</td><td>62.900002</td><td>61.299999</td><td>60.0</td><td>52.299999</td><td>58.799999</td><td>60.299999</td><td>63.700001</td><td>57.200001</td><td>58.900002</td><td>48.5</td><td>64.300003</td><td>61.200001</td><td>55.299999</td></tr><tr><td>1981.0</td><td>119.599998</td><td>128.699997</td><td>118.599998</td><td>133.800003</td><td>116.400002</td><td>152.600006</td><td>131.699997</td><td>114.099998</td><td>133.0</td><td>148.5</td><td>132.899994</td><td>132.0</td><td>209.699997</td><td>144.0</td><td>138.899994</td><td>120.800003</td><td>125.300003</td><td>140.5</td><td>121.099998</td><td>117.0</td><td>171.899994</td><td>245.399994</td><td>103.0</td><td>179.300003</td><td>125.699997</td><td>132.800003</td><td>143.699997</td><td>125.199997</td><td>151.199997</td><td>136.100006</td><td>115.699997</td><td>129.100006</td><td>129.0</td><td>77.599998</td><td>163.800003</td><td>149.899994</td><td>&hellip;</td><td>66.400002</td><td>58.099998</td><td>80.099998</td><td>66.0</td><td>62.599998</td><td>59.200001</td><td>63.099998</td><td>58.299999</td><td>61.400002</td><td>59.799999</td><td>49.400002</td><td>62.599998</td><td>62.900002</td><td>65.800003</td><td>63.0</td><td>59.900002</td><td>60.400002</td><td>60.900002</td><td>63.299999</td><td>58.400002</td><td>63.0</td><td>50.0</td><td>62.0</td><td>61.400002</td><td>65.800003</td><td>64.800003</td><td>64.5</td><td>54.700001</td><td>62.299999</td><td>63.700001</td><td>66.900002</td><td>62.700001</td><td>61.0</td><td>51.799999</td><td>66.199997</td><td>64.900002</td><td>55.900002</td></tr><tr><td>&hellip;</td><td>&hellip;</td><td>&hellip;</td><td>&hellip;</td><td>&hellip;</td><td>&hellip;</td><td>&hellip;</td><td>&hellip;</td><td>&hellip;</td><td>&hellip;</td><td>&hellip;</td><td>&hellip;</td><td>&hellip;</td><td>&hellip;</td><td>&hellip;</td><td>&hellip;</td><td>&hellip;</td><td>&hellip;</td><td>&hellip;</td><td>&hellip;</td><td>&hellip;</td><td>&hellip;</td><td>&hellip;</td><td>&hellip;</td><td>&hellip;</td><td>&hellip;</td><td>&hellip;</td><td>&hellip;</td><td>&hellip;</td><td>&hellip;</td><td>&hellip;</td><td>&hellip;</td><td>&hellip;</td><td>&hellip;</td><td>&hellip;</td><td>&hellip;</td><td>&hellip;</td><td>&hellip;</td><td>&hellip;</td><td>&hellip;</td><td>&hellip;</td><td>&hellip;</td><td>&hellip;</td><td>&hellip;</td><td>&hellip;</td><td>&hellip;</td><td>&hellip;</td><td>&hellip;</td><td>&hellip;</td><td>&hellip;</td><td>&hellip;</td><td>&hellip;</td><td>&hellip;</td><td>&hellip;</td><td>&hellip;</td><td>&hellip;</td><td>&hellip;</td><td>&hellip;</td><td>&hellip;</td><td>&hellip;</td><td>&hellip;</td><td>&hellip;</td><td>&hellip;</td><td>&hellip;</td><td>&hellip;</td><td>&hellip;</td><td>&hellip;</td><td>&hellip;</td><td>&hellip;</td><td>&hellip;</td><td>&hellip;</td><td>&hellip;</td><td>&hellip;</td><td>&hellip;</td><td>&hellip;</td></tr><tr><td>1989.0</td><td>105.599998</td><td>118.300003</td><td>82.400002</td><td>88.800003</td><td>100.599998</td><td>131.699997</td><td>117.099998</td><td>78.400002</td><td>104.599998</td><td>132.5</td><td>94.400002</td><td>96.5</td><td>171.600006</td><td>103.599998</td><td>122.400002</td><td>92.300003</td><td>108.300003</td><td>122.800003</td><td>86.199997</td><td>93.800003</td><td>137.899994</td><td>172.899994</td><td>74.400002</td><td>139.300003</td><td>84.099998</td><td>118.599998</td><td>97.5</td><td>107.099998</td><td>120.800003</td><td>122.400002</td><td>87.400002</td><td>124.699997</td><td>94.5</td><td>57.0</td><td>120.900002</td><td>122.5</td><td>&hellip;</td><td>126.400002</td><td>130.800003</td><td>142.0</td><td>124.0</td><td>122.400002</td><td>133.600006</td><td>132.699997</td><td>119.0</td><td>145.100006</td><td>136.5</td><td>103.800003</td><td>130.699997</td><td>144.399994</td><td>152.5</td><td>125.800003</td><td>118.900002</td><td>123.0</td><td>139.300003</td><td>145.600006</td><td>125.900002</td><td>127.199997</td><td>107.599998</td><td>135.899994</td><td>120.5</td><td>133.399994</td><td>122.800003</td><td>134.800003</td><td>111.900002</td><td>130.100006</td><td>121.5</td><td>137.0</td><td>135.600006</td><td>129.699997</td><td>109.400002</td><td>131.199997</td><td>138.300003</td><td>118.599998</td></tr><tr><td>1990.0</td><td>108.599998</td><td>113.099998</td><td>77.800003</td><td>87.400002</td><td>91.5</td><td>127.199997</td><td>113.800003</td><td>90.099998</td><td>94.099998</td><td>128.300003</td><td>95.400002</td><td>94.300003</td><td>182.5</td><td>101.5</td><td>117.5</td><td>90.699997</td><td>101.800003</td><td>119.099998</td><td>84.699997</td><td>89.900002</td><td>137.300003</td><td>152.399994</td><td>70.800003</td><td>133.699997</td><td>77.099998</td><td>115.5</td><td>88.400002</td><td>101.300003</td><td>101.400002</td><td>118.599998</td><td>88.300003</td><td>121.800003</td><td>85.599998</td><td>53.400002</td><td>124.300003</td><td>118.900002</td><td>&hellip;</td><td>163.800003</td><td>149.300003</td><td>171.199997</td><td>140.0</td><td>132.300003</td><td>141.300003</td><td>147.300003</td><td>130.800003</td><td>149.600006</td><td>145.800003</td><td>115.599998</td><td>143.399994</td><td>160.100006</td><td>162.300003</td><td>139.899994</td><td>129.100006</td><td>140.399994</td><td>143.399994</td><td>173.699997</td><td>135.899994</td><td>133.600006</td><td>116.400002</td><td>144.300003</td><td>135.399994</td><td>146.100006</td><td>133.699997</td><td>150.899994</td><td>125.199997</td><td>138.899994</td><td>135.0</td><td>145.699997</td><td>151.899994</td><td>143.699997</td><td>128.600006</td><td>142.899994</td><td>151.100006</td><td>129.5</td></tr><tr><td>1991.0</td><td>107.900002</td><td>116.800003</td><td>68.699997</td><td>90.199997</td><td>86.699997</td><td>118.800003</td><td>109.599998</td><td>85.400002</td><td>96.099998</td><td>127.199997</td><td>97.099998</td><td>91.800003</td><td>170.399994</td><td>107.199997</td><td>116.099998</td><td>86.199997</td><td>105.599998</td><td>119.900002</td><td>82.900002</td><td>92.400002</td><td>115.5</td><td>144.800003</td><td>69.900002</td><td>132.699997</td><td>85.199997</td><td>113.199997</td><td>87.800003</td><td>102.5</td><td>103.599998</td><td>121.5</td><td>91.800003</td><td>120.599998</td><td>79.400002</td><td>53.5</td><td>120.900002</td><td>109.099998</td><td>&hellip;</td><td>186.800003</td><td>152.600006</td><td>175.600006</td><td>143.199997</td><td>138.199997</td><td>144.399994</td><td>154.0</td><td>135.800003</td><td>155.399994</td><td>152.699997</td><td>120.5</td><td>149.600006</td><td>165.800003</td><td>173.899994</td><td>142.699997</td><td>132.5</td><td>143.600006</td><td>152.199997</td><td>186.300003</td><td>153.899994</td><td>146.899994</td><td>126.599998</td><td>159.800003</td><td>139.800003</td><td>149.100006</td><td>144.100006</td><td>170.300003</td><td>129.0</td><td>150.300003</td><td>137.399994</td><td>173.600006</td><td>167.100006</td><td>150.100006</td><td>136.5</td><td>144.100006</td><td>158.600006</td><td>136.0</td></tr><tr><td>1992.0</td><td>109.099998</td><td>126.0</td><td>67.5</td><td>88.300003</td><td>83.5</td><td>120.0</td><td>109.199997</td><td>85.099998</td><td>94.800003</td><td>128.199997</td><td>95.199997</td><td>90.0</td><td>167.600006</td><td>108.5</td><td>114.5</td><td>83.800003</td><td>103.900002</td><td>122.300003</td><td>86.599998</td><td>90.599998</td><td>110.0</td><td>143.699997</td><td>71.400002</td><td>128.899994</td><td>74.300003</td><td>112.300003</td><td>86.300003</td><td>96.199997</td><td>100.099998</td><td>112.800003</td><td>93.0</td><td>121.0</td><td>77.199997</td><td>55.0</td><td>126.5</td><td>108.199997</td><td>&hellip;</td><td>201.899994</td><td>157.5</td><td>193.5</td><td>174.699997</td><td>159.5</td><td>167.199997</td><td>179.800003</td><td>153.5</td><td>178.5</td><td>174.199997</td><td>135.800003</td><td>178.100006</td><td>187.699997</td><td>197.699997</td><td>160.800003</td><td>153.100006</td><td>163.5</td><td>169.5</td><td>193.800003</td><td>164.399994</td><td>165.399994</td><td>145.0</td><td>168.300003</td><td>159.600006</td><td>170.600006</td><td>176.199997</td><td>190.0</td><td>151.899994</td><td>163.0</td><td>163.899994</td><td>186.0</td><td>170.100006</td><td>168.0</td><td>157.899994</td><td>158.199997</td><td>176.5</td><td>155.100006</td></tr><tr><td>1993.0</td><td>108.5</td><td>113.800003</td><td>63.400002</td><td>88.599998</td><td>79.099998</td><td>123.800003</td><td>109.199997</td><td>86.699997</td><td>94.599998</td><td>126.800003</td><td>92.5</td><td>89.900002</td><td>167.600006</td><td>106.199997</td><td>108.5</td><td>81.599998</td><td>105.400002</td><td>121.599998</td><td>86.0</td><td>91.099998</td><td>108.099998</td><td>148.899994</td><td>69.0</td><td>129.699997</td><td>83.0</td><td>108.900002</td><td>86.199997</td><td>94.699997</td><td>94.099998</td><td>115.199997</td><td>91.599998</td><td>120.800003</td><td>81.300003</td><td>56.200001</td><td>117.199997</td><td>105.400002</td><td>&hellip;</td><td>205.100006</td><td>168.199997</td><td>202.300003</td><td>187.899994</td><td>167.199997</td><td>171.199997</td><td>187.5</td><td>157.5</td><td>189.699997</td><td>174.199997</td><td>145.399994</td><td>180.5</td><td>192.600006</td><td>215.600006</td><td>177.800003</td><td>157.600006</td><td>179.399994</td><td>177.199997</td><td>196.800003</td><td>181.100006</td><td>172.199997</td><td>153.5</td><td>177.600006</td><td>162.5</td><td>182.399994</td><td>183.800003</td><td>197.899994</td><td>164.5</td><td>180.300003</td><td>170.199997</td><td>204.600006</td><td>180.100006</td><td>173.800003</td><td>165.699997</td><td>166.199997</td><td>195.5</td><td>166.899994</td></tr><tr><td>1994.0</td><td>107.099998</td><td>108.800003</td><td>58.599998</td><td>89.099998</td><td>76.599998</td><td>126.099998</td><td>107.800003</td><td>93.0</td><td>85.699997</td><td>128.199997</td><td>93.400002</td><td>89.099998</td><td>170.100006</td><td>105.300003</td><td>101.599998</td><td>83.400002</td><td>106.0</td><td>119.400002</td><td>88.199997</td><td>85.900002</td><td>105.199997</td><td>153.800003</td><td>68.199997</td><td>112.699997</td><td>81.0</td><td>108.599998</td><td>104.800003</td><td>95.400002</td><td>91.900002</td><td>112.199997</td><td>94.800003</td><td>118.800003</td><td>78.800003</td><td>55.799999</td><td>120.300003</td><td>106.199997</td><td>&hellip;</td><td>190.300003</td><td>153.199997</td><td>205.600006</td><td>152.5</td><td>147.800003</td><td>150.5</td><td>182.100006</td><td>146.600006</td><td>171.399994</td><td>159.600006</td><td>132.800003</td><td>157.399994</td><td>178.300003</td><td>196.100006</td><td>156.899994</td><td>146.800003</td><td>151.300003</td><td>169.600006</td><td>190.300003</td><td>157.800003</td><td>158.399994</td><td>135.899994</td><td>180.100006</td><td>151.199997</td><td>163.399994</td><td>158.100006</td><td>168.899994</td><td>139.100006</td><td>154.399994</td><td>150.300003</td><td>177.699997</td><td>160.399994</td><td>159.600006</td><td>156.5</td><td>150.100006</td><td>178.600006</td><td>147.399994</td></tr><tr><td>1995.0</td><td>102.599998</td><td>113.0</td><td>56.400002</td><td>85.400002</td><td>79.300003</td><td>127.199997</td><td>100.300003</td><td>78.199997</td><td>84.300003</td><td>135.399994</td><td>93.0</td><td>90.099998</td><td>175.300003</td><td>105.699997</td><td>102.300003</td><td>84.099998</td><td>107.5</td><td>124.0</td><td>90.5</td><td>88.5</td><td>100.900002</td><td>158.5</td><td>67.0</td><td>124.900002</td><td>80.599998</td><td>111.699997</td><td>109.5</td><td>95.400002</td><td>90.800003</td><td>109.199997</td><td>98.599998</td><td>125.400002</td><td>75.199997</td><td>52.0</td><td>123.199997</td><td>106.699997</td><td>&hellip;</td><td>195.100006</td><td>164.199997</td><td>205.399994</td><td>160.699997</td><td>153.800003</td><td>163.5</td><td>185.199997</td><td>146.300003</td><td>179.0</td><td>165.699997</td><td>134.800003</td><td>155.800003</td><td>184.899994</td><td>202.199997</td><td>153.899994</td><td>150.300003</td><td>155.399994</td><td>170.699997</td><td>190.399994</td><td>163.899994</td><td>163.5</td><td>142.300003</td><td>179.5</td><td>155.600006</td><td>161.100006</td><td>161.699997</td><td>209.600006</td><td>140.0</td><td>162.100006</td><td>153.0</td><td>185.0</td><td>168.800003</td><td>160.100006</td><td>157.5</td><td>156.800003</td><td>188.0</td><td>153.0</td></tr><tr><td>1996.0</td><td>101.400002</td><td>110.699997</td><td>54.5</td><td>83.099998</td><td>76.0</td><td>128.300003</td><td>102.699997</td><td>73.599998</td><td>81.800003</td><td>135.100006</td><td>94.0</td><td>88.699997</td><td>179.0</td><td>106.800003</td><td>100.0</td><td>81.699997</td><td>106.900002</td><td>124.099998</td><td>87.300003</td><td>86.199997</td><td>99.0</td><td>158.0</td><td>65.699997</td><td>129.699997</td><td>80.800003</td><td>107.599998</td><td>110.800003</td><td>93.300003</td><td>87.5</td><td>102.900002</td><td>92.300003</td><td>119.199997</td><td>74.599998</td><td>54.0</td><td>102.5</td><td>104.599998</td><td>&hellip;</td><td>197.899994</td><td>169.600006</td><td>206.300003</td><td>169.100006</td><td>156.100006</td><td>176.5</td><td>188.699997</td><td>147.800003</td><td>183.800003</td><td>167.699997</td><td>139.800003</td><td>165.300003</td><td>186.899994</td><td>208.600006</td><td>161.199997</td><td>159.800003</td><td>156.800003</td><td>175.5</td><td>195.0</td><td>168.600006</td><td>170.800003</td><td>145.600006</td><td>182.699997</td><td>159.699997</td><td>162.699997</td><td>169.399994</td><td>214.899994</td><td>149.5</td><td>171.199997</td><td>155.899994</td><td>188.399994</td><td>174.899994</td><td>196.399994</td><td>159.600006</td><td>157.300003</td><td>200.5</td><td>162.5</td></tr><tr><td>1997.0</td><td>104.900002</td><td>108.699997</td><td>53.799999</td><td>81.300003</td><td>75.900002</td><td>124.099998</td><td>100.599998</td><td>75.0</td><td>79.599998</td><td>135.300003</td><td>93.900002</td><td>89.199997</td><td>186.800003</td><td>105.300003</td><td>101.099998</td><td>84.099998</td><td>106.300003</td><td>120.599998</td><td>88.900002</td><td>85.5</td><td>95.599998</td><td>174.399994</td><td>61.799999</td><td>125.599998</td><td>77.5</td><td>108.599998</td><td>111.800003</td><td>92.900002</td><td>90.0</td><td>124.5</td><td>88.800003</td><td>118.900002</td><td>72.599998</td><td>57.0</td><td>97.699997</td><td>108.0</td><td>&hellip;</td><td>200.300003</td><td>174.399994</td><td>208.5</td><td>171.899994</td><td>158.899994</td><td>184.399994</td><td>198.699997</td><td>156.300003</td><td>189.300003</td><td>171.300003</td><td>145.600006</td><td>166.899994</td><td>190.199997</td><td>216.800003</td><td>168.600006</td><td>163.399994</td><td>164.899994</td><td>184.800003</td><td>198.5</td><td>176.600006</td><td>176.0</td><td>152.0</td><td>194.100006</td><td>166.800003</td><td>172.0</td><td>176.5</td><td>217.0</td><td>153.899994</td><td>181.699997</td><td>161.100006</td><td>189.800003</td><td>186.199997</td><td>201.899994</td><td>159.600006</td><td>160.899994</td><td>200.699997</td><td>164.100006</td></tr><tr><td>1998.0</td><td>106.199997</td><td>109.5</td><td>52.299999</td><td>81.199997</td><td>75.5</td><td>132.800003</td><td>100.5</td><td>78.900002</td><td>80.300003</td><td>135.899994</td><td>94.0</td><td>87.599998</td><td>171.300003</td><td>103.199997</td><td>94.5</td><td>83.199997</td><td>107.0</td><td>120.099998</td><td>89.099998</td><td>83.099998</td><td>102.400002</td><td>173.800003</td><td>62.599998</td><td>126.0</td><td>79.099998</td><td>106.400002</td><td>112.199997</td><td>92.099998</td><td>88.699997</td><td>126.900002</td><td>88.300003</td><td>119.699997</td><td>73.199997</td><td>42.299999</td><td>97.0</td><td>105.599998</td><td>&hellip;</td><td>207.800003</td><td>185.800003</td><td>217.899994</td><td>179.199997</td><td>168.699997</td><td>187.100006</td><td>202.300003</td><td>166.800003</td><td>193.800003</td><td>184.300003</td><td>155.699997</td><td>185.899994</td><td>219.600006</td><td>220.199997</td><td>175.800003</td><td>173.800003</td><td>175.399994</td><td>194.600006</td><td>200.600006</td><td>197.0</td><td>183.800003</td><td>167.600006</td><td>205.199997</td><td>172.899994</td><td>183.600006</td><td>190.899994</td><td>232.199997</td><td>165.300003</td><td>192.800003</td><td>167.699997</td><td>201.800003</td><td>222.699997</td><td>213.899994</td><td>162.199997</td><td>171.100006</td><td>210.800003</td><td>168.800003</td></tr><tr><td>1999.0</td><td>100.699997</td><td>104.800003</td><td>47.200001</td><td>79.599998</td><td>73.400002</td><td>139.5</td><td>97.099998</td><td>75.099998</td><td>72.199997</td><td>133.300003</td><td>91.699997</td><td>83.300003</td><td>165.300003</td><td>101.0</td><td>85.5</td><td>80.699997</td><td>103.900002</td><td>118.0</td><td>82.599998</td><td>86.599998</td><td>103.900002</td><td>171.699997</td><td>59.700001</td><td>113.099998</td><td>74.699997</td><td>104.0</td><td>111.400002</td><td>91.099998</td><td>86.900002</td><td>109.400002</td><td>83.5</td><td>115.599998</td><td>67.599998</td><td>43.900002</td><td>94.099998</td><td>102.099998</td><td>&hellip;</td><td>224.899994</td><td>204.199997</td><td>236.5</td><td>198.300003</td><td>188.0</td><td>210.699997</td><td>240.5</td><td>190.0</td><td>213.0</td><td>207.0</td><td>179.199997</td><td>208.0</td><td>267.799988</td><td>227.399994</td><td>199.5</td><td>197.0</td><td>196.199997</td><td>214.600006</td><td>225.800003</td><td>222.800003</td><td>201.800003</td><td>186.800003</td><td>223.600006</td><td>193.199997</td><td>203.399994</td><td>205.0</td><td>251.699997</td><td>179.600006</td><td>207.899994</td><td>189.5</td><td>225.0</td><td>243.699997</td><td>233.699997</td><td>183.699997</td><td>192.399994</td><td>243.5</td><td>189.600006</td></tr><tr><td>2000.0</td><td>96.199997</td><td>99.400002</td><td>41.599998</td><td>73.0</td><td>71.400002</td><td>140.699997</td><td>88.400002</td><td>66.900002</td><td>70.0</td><td>125.5</td><td>88.900002</td><td>79.800003</td><td>156.199997</td><td>104.300003</td><td>82.900002</td><td>76.0</td><td>97.199997</td><td>113.800003</td><td>75.5</td><td>77.599998</td><td>93.199997</td><td>147.300003</td><td>53.799999</td><td>109.0</td><td>72.5</td><td>99.900002</td><td>108.900002</td><td>87.900002</td><td>83.099998</td><td>103.900002</td><td>75.099998</td><td>108.699997</td><td>69.300003</td><td>40.700001</td><td>88.900002</td><td>96.699997</td><td>&hellip;</td><td>351.200012</td><td>281.299988</td><td>312.299988</td><td>276.200012</td><td>257.399994</td><td>275.899994</td><td>312.700012</td><td>260.200012</td><td>286.299988</td><td>271.200012</td><td>243.399994</td><td>281.200012</td><td>330.5</td><td>303.600006</td><td>272.0</td><td>258.799988</td><td>260.700012</td><td>288.299988</td><td>303.5</td><td>313.899994</td><td>279.799988</td><td>257.299988</td><td>297.5</td><td>265.399994</td><td>272.600006</td><td>280.100006</td><td>322.899994</td><td>255.300003</td><td>272.899994</td><td>261.200012</td><td>292.299988</td><td>312.899994</td><td>301.100006</td><td>252.800003</td><td>253.699997</td><td>312.799988</td><td>267.100006</td></tr></tbody></table></div>"
      ],
      "text/plain": [
       "shape: (31, 79)\n",
       "┌────────┬────────────┬────────────┬───────────┬───┬───────────┬───────────┬───────────┬───────────┐\n",
       "│ year   ┆ cigsale_st ┆ cigsale_st ┆ cigsale_s ┆ … ┆ retprice_ ┆ retprice_ ┆ retprice_ ┆ retprice_ │\n",
       "│ ---    ┆ ate_Alabam ┆ ate_Arkans ┆ tate_Cali ┆   ┆ state_Vir ┆ state_Wes ┆ state_Wis ┆ state_Wyo │\n",
       "│ f32    ┆ a          ┆ as         ┆ fornia    ┆   ┆ ginia     ┆ t         ┆ consin    ┆ ming      │\n",
       "│        ┆ ---        ┆ ---        ┆ ---       ┆   ┆ ---       ┆ Virginia  ┆ ---       ┆ ---       │\n",
       "│        ┆ f32        ┆ f32        ┆ f32       ┆   ┆ f32       ┆ ---       ┆ f32       ┆ f32       │\n",
       "│        ┆            ┆            ┆           ┆   ┆           ┆ f32       ┆           ┆           │\n",
       "╞════════╪════════════╪════════════╪═══════════╪═══╪═══════════╪═══════════╪═══════════╪═══════════╡\n",
       "│ 1970.0 ┆ 89.800003  ┆ 100.300003 ┆ 123.0     ┆ … ┆ 28.799999 ┆ 33.700001 ┆ 38.5      ┆ 34.099998 │\n",
       "│ 1971.0 ┆ 95.400002  ┆ 104.099998 ┆ 121.0     ┆ … ┆ 30.200001 ┆ 41.599998 ┆ 40.200001 ┆ 34.400002 │\n",
       "│ 1972.0 ┆ 101.099998 ┆ 103.900002 ┆ 123.5     ┆ … ┆ 29.9      ┆ 41.299999 ┆ 40.299999 ┆ 34.400002 │\n",
       "│ 1973.0 ┆ 102.900002 ┆ 108.0      ┆ 124.40000 ┆ … ┆ 30.1      ┆ 39.900002 ┆ 42.599998 ┆ 34.400002 │\n",
       "│        ┆            ┆            ┆ 2         ┆   ┆           ┆           ┆           ┆           │\n",
       "│ 1974.0 ┆ 108.199997 ┆ 109.699997 ┆ 126.69999 ┆ … ┆ 31.299999 ┆ 42.0      ┆ 43.900002 ┆ 35.799999 │\n",
       "│        ┆            ┆            ┆ 7         ┆   ┆           ┆           ┆           ┆           │\n",
       "│ …      ┆ …          ┆ …          ┆ …         ┆ … ┆ …         ┆ …         ┆ …         ┆ …         │\n",
       "│ 1996.0 ┆ 101.400002 ┆ 110.699997 ┆ 54.5      ┆ … ┆ 159.60000 ┆ 157.30000 ┆ 200.5     ┆ 162.5     │\n",
       "│        ┆            ┆            ┆           ┆   ┆ 6         ┆ 3         ┆           ┆           │\n",
       "│ 1997.0 ┆ 104.900002 ┆ 108.699997 ┆ 53.799999 ┆ … ┆ 159.60000 ┆ 160.89999 ┆ 200.69999 ┆ 164.10000 │\n",
       "│        ┆            ┆            ┆           ┆   ┆ 6         ┆ 4         ┆ 7         ┆ 6         │\n",
       "│ 1998.0 ┆ 106.199997 ┆ 109.5      ┆ 52.299999 ┆ … ┆ 162.19999 ┆ 171.10000 ┆ 210.80000 ┆ 168.80000 │\n",
       "│        ┆            ┆            ┆           ┆   ┆ 7         ┆ 6         ┆ 3         ┆ 3         │\n",
       "│ 1999.0 ┆ 100.699997 ┆ 104.800003 ┆ 47.200001 ┆ … ┆ 183.69999 ┆ 192.39999 ┆ 243.5     ┆ 189.60000 │\n",
       "│        ┆            ┆            ┆           ┆   ┆ 7         ┆ 4         ┆           ┆ 6         │\n",
       "│ 2000.0 ┆ 96.199997  ┆ 99.400002  ┆ 41.599998 ┆ … ┆ 252.80000 ┆ 253.69999 ┆ 312.79998 ┆ 267.10000 │\n",
       "│        ┆            ┆            ┆           ┆   ┆ 3         ┆ 7         ┆ 8         ┆ 6         │\n",
       "└────────┴────────────┴────────────┴───────────┴───┴───────────┴───────────┴───────────┴───────────┘"
      ]
     },
     "execution_count": 192,
     "metadata": {},
     "output_type": "execute_result"
    }
   ],
   "source": [
    "# stataファイルを読み込む\n",
    "df = pd.read_stata('./data/smoking.dta')\n",
    "df = pl.from_pandas(df)\n",
    "# print(df.head().to_pandas().to_markdown())\n",
    "df = df.select(\n",
    "    \"state\", \"year\", \"cigsale\", \"retprice\"\n",
    ").pivot(\n",
    "    values=['cigsale', 'retprice'],\n",
    "    index='year',\n",
    "    columns='state'\n",
    ")\n",
    "# 処置群とコントロール群に分割\n",
    "df"
   ]
  },
  {
   "cell_type": "code",
   "execution_count": 307,
   "metadata": {},
   "outputs": [
    {
     "name": "stdout",
     "output_type": "stream",
     "text": [
      "(38, 38)\n"
     ]
    }
   ],
   "source": [
    "df = pd.read_stata('./data/smoking.dta')\n",
    "df = pl.from_pandas(df)\n",
    "\n",
    "T = len(df['year'].unique()) # 観測された時間の長さ\n",
    "N = len(df['state'].unique()) - 1 # control unitの数\n",
    "T0 = 1988 - 1970 + 1 # 処置が始まるまでの時間\n",
    "\n",
    "# print(df.head().to_pandas().to_markdown())\n",
    "df = df.select(\n",
    "    \"state\", \"year\", \"cigsale\", \"retprice\"\n",
    ")\n",
    "\n",
    "# X: N×T0*2 matrix\n",
    "X = df.filter(\n",
    "(pl.col(\"state\") != \"California\")\n",
    "& (pl.col(\"year\") <= 1988)\n",
    ").sort('year')[['cigsale', 'retprice']].to_numpy().T.reshape(N, -1)\n",
    "\n",
    "Y = df.filter(\n",
    "    (pl.col(\"state\") == \"California\")\n",
    "    & (pl.col(\"year\") <= 1988)\n",
    ")[['cigsale', 'retprice']].to_numpy().T.reshape(2*T0)\n",
    "\n",
    "print(X.shape)"
   ]
  },
  {
   "cell_type": "code",
   "execution_count": 367,
   "metadata": {},
   "outputs": [
    {
     "name": "stdout",
     "output_type": "stream",
     "text": [
      "[-0.618 -0.918  0.633  0.276  0.263  0.958  0.168  0.303 -0.331 -0.099\n",
      " -0.578  0.957 -0.356  0.278 -0.03  -0.455 -0.164 -0.621 -0.175 -0.077\n",
      "  0.079  0.382 -0.326  0.419  0.216 -0.125 -0.1    0.21  -0.398  0.734\n",
      "  0.315 -0.058  0.504 -0.21  -0.767  0.737  0.026 -0.099]\n",
      "0.9510519\n"
     ]
    }
   ],
   "source": [
    "# OLS\n",
    "alpha_OLS = np.linalg.inv(X.T @ X) @ X.T @ Y\n",
    "print(alpha_OLS.round(3))\n",
    "print(alpha_OLS.sum())"
   ]
  },
  {
   "cell_type": "code",
   "execution_count": 336,
   "metadata": {},
   "outputs": [
    {
     "name": "stdout",
     "output_type": "stream",
     "text": [
      "(31, 38)\n"
     ]
    },
    {
     "data": {
      "application/vnd.plotly.v1+json": {
       "config": {
        "plotlyServerURL": "https://plot.ly"
       },
       "data": [
        {
         "name": "California",
         "type": "scatter",
         "x": [
          1970,
          1971,
          1972,
          1973,
          1974,
          1975,
          1976,
          1977,
          1978,
          1979,
          1980,
          1981,
          1982,
          1983,
          1984,
          1985,
          1986,
          1987,
          1988,
          1989,
          1990,
          1991,
          1992,
          1993,
          1994,
          1995,
          1996,
          1997,
          1998,
          1999,
          2000
         ],
         "y": [
          123,
          121,
          123.5,
          124.4000015258789,
          126.69999694824219,
          127.0999984741211,
          128,
          126.4000015258789,
          126.0999984741211,
          121.9000015258789,
          120.19999694824219,
          118.5999984741211,
          115.4000015258789,
          110.80000305175781,
          104.80000305175781,
          102.80000305175781,
          99.69999694824219,
          97.5,
          90.0999984741211,
          82.4000015258789,
          77.80000305175781,
          68.69999694824219,
          67.5,
          63.400001525878906,
          58.599998474121094,
          56.400001525878906,
          54.5,
          53.79999923706055,
          52.29999923706055,
          47.20000076293945,
          41.599998474121094
         ]
        },
        {
         "name": "Synthetic California",
         "type": "scatter",
         "x": [
          1970,
          1971,
          1972,
          1973,
          1974,
          1975,
          1976,
          1977,
          1978,
          1979,
          1980,
          1981,
          1982,
          1983,
          1984,
          1985,
          1986,
          1987,
          1988,
          1989,
          1990,
          1991,
          1992,
          1993,
          1994,
          1995,
          1996,
          1997,
          1998,
          1999,
          2000
         ],
         "y": [
          124.15045166015625,
          122.27178192138672,
          124.66522216796875,
          125.31146240234375,
          127.52865600585938,
          127.56807708740234,
          128.49510192871094,
          127.08383178710938,
          126.78040313720703,
          122.50724792480469,
          120.87492370605469,
          119.40655517578125,
          116.2068862915039,
          111.58497619628906,
          105.738037109375,
          103.7771987915039,
          100.99407958984375,
          98.96961975097656,
          91.50140380859375,
          88.06029510498047,
          95.92414855957031,
          83.51834106445312,
          68.07701873779297,
          92.9356460571289,
          94.32369232177734,
          87.69651794433594,
          93.3983383178711,
          87.14081573486328,
          66.97209930419922,
          74.800537109375,
          63.277915954589844
         ]
        }
       ],
       "layout": {
        "height": 600,
        "legend": {
         "orientation": "h",
         "x": 1,
         "xanchor": "right",
         "y": 1.02,
         "yanchor": "bottom"
        },
        "shapes": [
         {
          "type": "line",
          "x0": 1988,
          "x1": 1988,
          "xref": "x",
          "y0": 0,
          "y1": 1,
          "yref": "y domain"
         }
        ],
        "template": {
         "data": {
          "bar": [
           {
            "error_x": {
             "color": "#2a3f5f"
            },
            "error_y": {
             "color": "#2a3f5f"
            },
            "marker": {
             "line": {
              "color": "white",
              "width": 0.5
             },
             "pattern": {
              "fillmode": "overlay",
              "size": 10,
              "solidity": 0.2
             }
            },
            "type": "bar"
           }
          ],
          "barpolar": [
           {
            "marker": {
             "line": {
              "color": "white",
              "width": 0.5
             },
             "pattern": {
              "fillmode": "overlay",
              "size": 10,
              "solidity": 0.2
             }
            },
            "type": "barpolar"
           }
          ],
          "carpet": [
           {
            "aaxis": {
             "endlinecolor": "#2a3f5f",
             "gridcolor": "#C8D4E3",
             "linecolor": "#C8D4E3",
             "minorgridcolor": "#C8D4E3",
             "startlinecolor": "#2a3f5f"
            },
            "baxis": {
             "endlinecolor": "#2a3f5f",
             "gridcolor": "#C8D4E3",
             "linecolor": "#C8D4E3",
             "minorgridcolor": "#C8D4E3",
             "startlinecolor": "#2a3f5f"
            },
            "type": "carpet"
           }
          ],
          "choropleth": [
           {
            "colorbar": {
             "outlinewidth": 0,
             "ticks": ""
            },
            "type": "choropleth"
           }
          ],
          "contour": [
           {
            "colorbar": {
             "outlinewidth": 0,
             "ticks": ""
            },
            "colorscale": [
             [
              0,
              "#0d0887"
             ],
             [
              0.1111111111111111,
              "#46039f"
             ],
             [
              0.2222222222222222,
              "#7201a8"
             ],
             [
              0.3333333333333333,
              "#9c179e"
             ],
             [
              0.4444444444444444,
              "#bd3786"
             ],
             [
              0.5555555555555556,
              "#d8576b"
             ],
             [
              0.6666666666666666,
              "#ed7953"
             ],
             [
              0.7777777777777778,
              "#fb9f3a"
             ],
             [
              0.8888888888888888,
              "#fdca26"
             ],
             [
              1,
              "#f0f921"
             ]
            ],
            "type": "contour"
           }
          ],
          "contourcarpet": [
           {
            "colorbar": {
             "outlinewidth": 0,
             "ticks": ""
            },
            "type": "contourcarpet"
           }
          ],
          "heatmap": [
           {
            "colorbar": {
             "outlinewidth": 0,
             "ticks": ""
            },
            "colorscale": [
             [
              0,
              "#0d0887"
             ],
             [
              0.1111111111111111,
              "#46039f"
             ],
             [
              0.2222222222222222,
              "#7201a8"
             ],
             [
              0.3333333333333333,
              "#9c179e"
             ],
             [
              0.4444444444444444,
              "#bd3786"
             ],
             [
              0.5555555555555556,
              "#d8576b"
             ],
             [
              0.6666666666666666,
              "#ed7953"
             ],
             [
              0.7777777777777778,
              "#fb9f3a"
             ],
             [
              0.8888888888888888,
              "#fdca26"
             ],
             [
              1,
              "#f0f921"
             ]
            ],
            "type": "heatmap"
           }
          ],
          "heatmapgl": [
           {
            "colorbar": {
             "outlinewidth": 0,
             "ticks": ""
            },
            "colorscale": [
             [
              0,
              "#0d0887"
             ],
             [
              0.1111111111111111,
              "#46039f"
             ],
             [
              0.2222222222222222,
              "#7201a8"
             ],
             [
              0.3333333333333333,
              "#9c179e"
             ],
             [
              0.4444444444444444,
              "#bd3786"
             ],
             [
              0.5555555555555556,
              "#d8576b"
             ],
             [
              0.6666666666666666,
              "#ed7953"
             ],
             [
              0.7777777777777778,
              "#fb9f3a"
             ],
             [
              0.8888888888888888,
              "#fdca26"
             ],
             [
              1,
              "#f0f921"
             ]
            ],
            "type": "heatmapgl"
           }
          ],
          "histogram": [
           {
            "marker": {
             "pattern": {
              "fillmode": "overlay",
              "size": 10,
              "solidity": 0.2
             }
            },
            "type": "histogram"
           }
          ],
          "histogram2d": [
           {
            "colorbar": {
             "outlinewidth": 0,
             "ticks": ""
            },
            "colorscale": [
             [
              0,
              "#0d0887"
             ],
             [
              0.1111111111111111,
              "#46039f"
             ],
             [
              0.2222222222222222,
              "#7201a8"
             ],
             [
              0.3333333333333333,
              "#9c179e"
             ],
             [
              0.4444444444444444,
              "#bd3786"
             ],
             [
              0.5555555555555556,
              "#d8576b"
             ],
             [
              0.6666666666666666,
              "#ed7953"
             ],
             [
              0.7777777777777778,
              "#fb9f3a"
             ],
             [
              0.8888888888888888,
              "#fdca26"
             ],
             [
              1,
              "#f0f921"
             ]
            ],
            "type": "histogram2d"
           }
          ],
          "histogram2dcontour": [
           {
            "colorbar": {
             "outlinewidth": 0,
             "ticks": ""
            },
            "colorscale": [
             [
              0,
              "#0d0887"
             ],
             [
              0.1111111111111111,
              "#46039f"
             ],
             [
              0.2222222222222222,
              "#7201a8"
             ],
             [
              0.3333333333333333,
              "#9c179e"
             ],
             [
              0.4444444444444444,
              "#bd3786"
             ],
             [
              0.5555555555555556,
              "#d8576b"
             ],
             [
              0.6666666666666666,
              "#ed7953"
             ],
             [
              0.7777777777777778,
              "#fb9f3a"
             ],
             [
              0.8888888888888888,
              "#fdca26"
             ],
             [
              1,
              "#f0f921"
             ]
            ],
            "type": "histogram2dcontour"
           }
          ],
          "mesh3d": [
           {
            "colorbar": {
             "outlinewidth": 0,
             "ticks": ""
            },
            "type": "mesh3d"
           }
          ],
          "parcoords": [
           {
            "line": {
             "colorbar": {
              "outlinewidth": 0,
              "ticks": ""
             }
            },
            "type": "parcoords"
           }
          ],
          "pie": [
           {
            "automargin": true,
            "type": "pie"
           }
          ],
          "scatter": [
           {
            "fillpattern": {
             "fillmode": "overlay",
             "size": 10,
             "solidity": 0.2
            },
            "type": "scatter"
           }
          ],
          "scatter3d": [
           {
            "line": {
             "colorbar": {
              "outlinewidth": 0,
              "ticks": ""
             }
            },
            "marker": {
             "colorbar": {
              "outlinewidth": 0,
              "ticks": ""
             }
            },
            "type": "scatter3d"
           }
          ],
          "scattercarpet": [
           {
            "marker": {
             "colorbar": {
              "outlinewidth": 0,
              "ticks": ""
             }
            },
            "type": "scattercarpet"
           }
          ],
          "scattergeo": [
           {
            "marker": {
             "colorbar": {
              "outlinewidth": 0,
              "ticks": ""
             }
            },
            "type": "scattergeo"
           }
          ],
          "scattergl": [
           {
            "marker": {
             "colorbar": {
              "outlinewidth": 0,
              "ticks": ""
             }
            },
            "type": "scattergl"
           }
          ],
          "scattermapbox": [
           {
            "marker": {
             "colorbar": {
              "outlinewidth": 0,
              "ticks": ""
             }
            },
            "type": "scattermapbox"
           }
          ],
          "scatterpolar": [
           {
            "marker": {
             "colorbar": {
              "outlinewidth": 0,
              "ticks": ""
             }
            },
            "type": "scatterpolar"
           }
          ],
          "scatterpolargl": [
           {
            "marker": {
             "colorbar": {
              "outlinewidth": 0,
              "ticks": ""
             }
            },
            "type": "scatterpolargl"
           }
          ],
          "scatterternary": [
           {
            "marker": {
             "colorbar": {
              "outlinewidth": 0,
              "ticks": ""
             }
            },
            "type": "scatterternary"
           }
          ],
          "surface": [
           {
            "colorbar": {
             "outlinewidth": 0,
             "ticks": ""
            },
            "colorscale": [
             [
              0,
              "#0d0887"
             ],
             [
              0.1111111111111111,
              "#46039f"
             ],
             [
              0.2222222222222222,
              "#7201a8"
             ],
             [
              0.3333333333333333,
              "#9c179e"
             ],
             [
              0.4444444444444444,
              "#bd3786"
             ],
             [
              0.5555555555555556,
              "#d8576b"
             ],
             [
              0.6666666666666666,
              "#ed7953"
             ],
             [
              0.7777777777777778,
              "#fb9f3a"
             ],
             [
              0.8888888888888888,
              "#fdca26"
             ],
             [
              1,
              "#f0f921"
             ]
            ],
            "type": "surface"
           }
          ],
          "table": [
           {
            "cells": {
             "fill": {
              "color": "#EBF0F8"
             },
             "line": {
              "color": "white"
             }
            },
            "header": {
             "fill": {
              "color": "#C8D4E3"
             },
             "line": {
              "color": "white"
             }
            },
            "type": "table"
           }
          ]
         },
         "layout": {
          "annotationdefaults": {
           "arrowcolor": "#2a3f5f",
           "arrowhead": 0,
           "arrowwidth": 1
          },
          "autotypenumbers": "strict",
          "coloraxis": {
           "colorbar": {
            "outlinewidth": 0,
            "ticks": ""
           }
          },
          "colorscale": {
           "diverging": [
            [
             0,
             "#8e0152"
            ],
            [
             0.1,
             "#c51b7d"
            ],
            [
             0.2,
             "#de77ae"
            ],
            [
             0.3,
             "#f1b6da"
            ],
            [
             0.4,
             "#fde0ef"
            ],
            [
             0.5,
             "#f7f7f7"
            ],
            [
             0.6,
             "#e6f5d0"
            ],
            [
             0.7,
             "#b8e186"
            ],
            [
             0.8,
             "#7fbc41"
            ],
            [
             0.9,
             "#4d9221"
            ],
            [
             1,
             "#276419"
            ]
           ],
           "sequential": [
            [
             0,
             "#0d0887"
            ],
            [
             0.1111111111111111,
             "#46039f"
            ],
            [
             0.2222222222222222,
             "#7201a8"
            ],
            [
             0.3333333333333333,
             "#9c179e"
            ],
            [
             0.4444444444444444,
             "#bd3786"
            ],
            [
             0.5555555555555556,
             "#d8576b"
            ],
            [
             0.6666666666666666,
             "#ed7953"
            ],
            [
             0.7777777777777778,
             "#fb9f3a"
            ],
            [
             0.8888888888888888,
             "#fdca26"
            ],
            [
             1,
             "#f0f921"
            ]
           ],
           "sequentialminus": [
            [
             0,
             "#0d0887"
            ],
            [
             0.1111111111111111,
             "#46039f"
            ],
            [
             0.2222222222222222,
             "#7201a8"
            ],
            [
             0.3333333333333333,
             "#9c179e"
            ],
            [
             0.4444444444444444,
             "#bd3786"
            ],
            [
             0.5555555555555556,
             "#d8576b"
            ],
            [
             0.6666666666666666,
             "#ed7953"
            ],
            [
             0.7777777777777778,
             "#fb9f3a"
            ],
            [
             0.8888888888888888,
             "#fdca26"
            ],
            [
             1,
             "#f0f921"
            ]
           ]
          },
          "colorway": [
           "#636efa",
           "#EF553B",
           "#00cc96",
           "#ab63fa",
           "#FFA15A",
           "#19d3f3",
           "#FF6692",
           "#B6E880",
           "#FF97FF",
           "#FECB52"
          ],
          "font": {
           "color": "#2a3f5f"
          },
          "geo": {
           "bgcolor": "white",
           "lakecolor": "white",
           "landcolor": "white",
           "showlakes": true,
           "showland": true,
           "subunitcolor": "#C8D4E3"
          },
          "hoverlabel": {
           "align": "left"
          },
          "hovermode": "closest",
          "mapbox": {
           "style": "light"
          },
          "paper_bgcolor": "white",
          "plot_bgcolor": "white",
          "polar": {
           "angularaxis": {
            "gridcolor": "#EBF0F8",
            "linecolor": "#EBF0F8",
            "ticks": ""
           },
           "bgcolor": "white",
           "radialaxis": {
            "gridcolor": "#EBF0F8",
            "linecolor": "#EBF0F8",
            "ticks": ""
           }
          },
          "scene": {
           "xaxis": {
            "backgroundcolor": "white",
            "gridcolor": "#DFE8F3",
            "gridwidth": 2,
            "linecolor": "#EBF0F8",
            "showbackground": true,
            "ticks": "",
            "zerolinecolor": "#EBF0F8"
           },
           "yaxis": {
            "backgroundcolor": "white",
            "gridcolor": "#DFE8F3",
            "gridwidth": 2,
            "linecolor": "#EBF0F8",
            "showbackground": true,
            "ticks": "",
            "zerolinecolor": "#EBF0F8"
           },
           "zaxis": {
            "backgroundcolor": "white",
            "gridcolor": "#DFE8F3",
            "gridwidth": 2,
            "linecolor": "#EBF0F8",
            "showbackground": true,
            "ticks": "",
            "zerolinecolor": "#EBF0F8"
           }
          },
          "shapedefaults": {
           "line": {
            "color": "#2a3f5f"
           }
          },
          "ternary": {
           "aaxis": {
            "gridcolor": "#DFE8F3",
            "linecolor": "#A2B1C6",
            "ticks": ""
           },
           "baxis": {
            "gridcolor": "#DFE8F3",
            "linecolor": "#A2B1C6",
            "ticks": ""
           },
           "bgcolor": "white",
           "caxis": {
            "gridcolor": "#DFE8F3",
            "linecolor": "#A2B1C6",
            "ticks": ""
           }
          },
          "title": {
           "x": 0.05
          },
          "xaxis": {
           "automargin": true,
           "gridcolor": "#EBF0F8",
           "linecolor": "#EBF0F8",
           "ticks": "",
           "title": {
            "standoff": 15
           },
           "zerolinecolor": "#EBF0F8",
           "zerolinewidth": 2
          },
          "yaxis": {
           "automargin": true,
           "gridcolor": "#EBF0F8",
           "linecolor": "#EBF0F8",
           "ticks": "",
           "title": {
            "standoff": 15
           },
           "zerolinecolor": "#EBF0F8",
           "zerolinewidth": 2
          }
         }
        },
        "width": 1200,
        "xaxis": {
         "title": {
          "text": "year"
         }
        },
        "yaxis": {
         "title": {
          "text": "cigarette sales (in packs)"
         }
        }
       }
      }
     },
     "metadata": {},
     "output_type": "display_data"
    }
   ],
   "source": [
    "treatment_outcome = df.filter(\n",
    "    (pl.col(\"state\") == \"California\")\n",
    ")[['cigsale']].to_numpy().T.reshape(T)\n",
    "\n",
    "control_outcome = df.filter(\n",
    "    (pl.col(\"state\") != \"California\")\n",
    ")[['cigsale']].to_numpy().reshape(N, -1).T\n",
    "\n",
    "print(control_outcome.shape)\n",
    "\n",
    "pred_OLS = control_outcome @ alpha_OLS\n",
    "\n",
    "fig = go.Figure()\n",
    "fig.add_trace(\n",
    "    go.Scatter(\n",
    "        x=year,\n",
    "        y=treatment_outcome,\n",
    "        name='California'\n",
    "    )\n",
    ")\n",
    "\n",
    "fig.add_trace(\n",
    "    go.Scatter(\n",
    "        x=year,\n",
    "        y=pred_OLS,\n",
    "        name='Synthetic California'\n",
    "    )\n",
    ")\n",
    "\n",
    "\n",
    "fig.add_vline(\n",
    "    x=1988\n",
    ")\n",
    "\n",
    "fig.update_layout(\n",
    "    template='plotly_white',\n",
    "    xaxis_title='year',\n",
    "    yaxis_title='cigarette sales (in packs)',\n",
    "    legend=dict(\n",
    "    orientation=\"h\",\n",
    "    yanchor=\"bottom\",\n",
    "    y=1.02,\n",
    "    xanchor=\"right\",\n",
    "    x=1\n",
    "    ),\n",
    "    width=1200,\n",
    "    height=600,\n",
    ")"
   ]
  },
  {
   "cell_type": "code",
   "execution_count": 368,
   "metadata": {},
   "outputs": [
    {
     "name": "stdout",
     "output_type": "stream",
     "text": [
      "[0.     0.     0.     0.0853 0.     0.     0.     0.     0.     0.\n",
      " 0.     0.     0.     0.     0.     0.     0.     0.     0.     0.113\n",
      " 0.1051 0.4566 0.     0.     0.     0.     0.     0.     0.     0.\n",
      " 0.     0.     0.2401 0.     0.     0.     0.     0.    ]\n",
      "1.000000000008864\n"
     ]
    }
   ],
   "source": [
    "# SCM\n",
    "def loss_function(w, X, y):\n",
    "    return np.mean((y - X @ w)**2)\n",
    "\n",
    "cons = (\n",
    "    {'type': 'eq', 'fun': lambda x: np.sum(x) - 1}\n",
    ")\n",
    "bounds = [(0, None) for i in range(N)]\n",
    "\n",
    "alpha0 = np.ones(N) / N\n",
    "scm = minimize(\n",
    "    loss_function,\n",
    "    x0=alpha0,\n",
    "    args=(X, Y),\n",
    "    constraints=cons,\n",
    "    bounds=bounds,\n",
    "    method=\"SLSQP\"\n",
    ")\n",
    "alpha_scm = scm.x\n",
    "print(alpha_scm.round(4))\n",
    "print(alpha_scm.sum())"
   ]
  },
  {
   "cell_type": "code",
   "execution_count": 335,
   "metadata": {},
   "outputs": [
    {
     "data": {
      "application/vnd.plotly.v1+json": {
       "config": {
        "plotlyServerURL": "https://plot.ly"
       },
       "data": [
        {
         "name": "California",
         "type": "scatter",
         "x": [
          1970,
          1971,
          1972,
          1973,
          1974,
          1975,
          1976,
          1977,
          1978,
          1979,
          1980,
          1981,
          1982,
          1983,
          1984,
          1985,
          1986,
          1987,
          1988,
          1989,
          1990,
          1991,
          1992,
          1993,
          1994,
          1995,
          1996,
          1997,
          1998,
          1999,
          2000
         ],
         "y": [
          123,
          121,
          123.5,
          124.4000015258789,
          126.69999694824219,
          127.0999984741211,
          128,
          126.4000015258789,
          126.0999984741211,
          121.9000015258789,
          120.19999694824219,
          118.5999984741211,
          115.4000015258789,
          110.80000305175781,
          104.80000305175781,
          102.80000305175781,
          99.69999694824219,
          97.5,
          90.0999984741211,
          82.4000015258789,
          77.80000305175781,
          68.69999694824219,
          67.5,
          63.400001525878906,
          58.599998474121094,
          56.400001525878906,
          54.5,
          53.79999923706055,
          52.29999923706055,
          47.20000076293945,
          41.599998474121094
         ]
        },
        {
         "name": "Synthetic California",
         "type": "scatter",
         "x": [
          1970,
          1971,
          1972,
          1973,
          1974,
          1975,
          1976,
          1977,
          1978,
          1979,
          1980,
          1981,
          1982,
          1983,
          1984,
          1985,
          1986,
          1987,
          1988,
          1989,
          1990,
          1991,
          1992,
          1993,
          1994,
          1995,
          1996,
          1997,
          1998,
          1999,
          2000
         ],
         "y": [
          116.37727433253355,
          119.29314282270545,
          125.46424034238902,
          124.0105755037834,
          125.00545136579667,
          126.12743625080157,
          128.4034396082431,
          126.33309521160481,
          125.65801745050433,
          122.57667053588892,
          121.0247541294757,
          120.78996528360501,
          115.8166375632089,
          112.72173861731684,
          104.13441269370126,
          103.31411200398793,
          101.67862052587392,
          100.31150665601848,
          92.60457287069505,
          89.97980295955895,
          84.47449570308765,
          80.41654138351402,
          80.45169799683755,
          79.6002483728962,
          79.11282047205343,
          77.89071660920708,
          77.22860632228964,
          77.49799562124953,
          75.00578656689171,
          73.83546050745147,
          66.43028849600378
         ]
        },
        {
         "name": "OLS",
         "opacity": 0.5,
         "type": "scatter",
         "x": [
          1970,
          1971,
          1972,
          1973,
          1974,
          1975,
          1976,
          1977,
          1978,
          1979,
          1980,
          1981,
          1982,
          1983,
          1984,
          1985,
          1986,
          1987,
          1988,
          1989,
          1990,
          1991,
          1992,
          1993,
          1994,
          1995,
          1996,
          1997,
          1998,
          1999,
          2000
         ],
         "y": [
          124.15045166015625,
          122.27178192138672,
          124.66522216796875,
          125.31146240234375,
          127.52865600585938,
          127.56807708740234,
          128.49510192871094,
          127.08383178710938,
          126.78040313720703,
          122.50724792480469,
          120.87492370605469,
          119.40655517578125,
          116.2068862915039,
          111.58497619628906,
          105.738037109375,
          103.7771987915039,
          100.99407958984375,
          98.96961975097656,
          91.50140380859375,
          88.06029510498047,
          95.92414855957031,
          83.51834106445312,
          68.07701873779297,
          92.9356460571289,
          94.32369232177734,
          87.69651794433594,
          93.3983383178711,
          87.14081573486328,
          66.97209930419922,
          74.800537109375,
          63.277915954589844
         ]
        }
       ],
       "layout": {
        "height": 600,
        "legend": {
         "orientation": "h",
         "x": 1,
         "xanchor": "right",
         "y": 1.02,
         "yanchor": "bottom"
        },
        "shapes": [
         {
          "type": "line",
          "x0": 1988,
          "x1": 1988,
          "xref": "x",
          "y0": 0,
          "y1": 1,
          "yref": "y domain"
         }
        ],
        "template": {
         "data": {
          "bar": [
           {
            "error_x": {
             "color": "#2a3f5f"
            },
            "error_y": {
             "color": "#2a3f5f"
            },
            "marker": {
             "line": {
              "color": "white",
              "width": 0.5
             },
             "pattern": {
              "fillmode": "overlay",
              "size": 10,
              "solidity": 0.2
             }
            },
            "type": "bar"
           }
          ],
          "barpolar": [
           {
            "marker": {
             "line": {
              "color": "white",
              "width": 0.5
             },
             "pattern": {
              "fillmode": "overlay",
              "size": 10,
              "solidity": 0.2
             }
            },
            "type": "barpolar"
           }
          ],
          "carpet": [
           {
            "aaxis": {
             "endlinecolor": "#2a3f5f",
             "gridcolor": "#C8D4E3",
             "linecolor": "#C8D4E3",
             "minorgridcolor": "#C8D4E3",
             "startlinecolor": "#2a3f5f"
            },
            "baxis": {
             "endlinecolor": "#2a3f5f",
             "gridcolor": "#C8D4E3",
             "linecolor": "#C8D4E3",
             "minorgridcolor": "#C8D4E3",
             "startlinecolor": "#2a3f5f"
            },
            "type": "carpet"
           }
          ],
          "choropleth": [
           {
            "colorbar": {
             "outlinewidth": 0,
             "ticks": ""
            },
            "type": "choropleth"
           }
          ],
          "contour": [
           {
            "colorbar": {
             "outlinewidth": 0,
             "ticks": ""
            },
            "colorscale": [
             [
              0,
              "#0d0887"
             ],
             [
              0.1111111111111111,
              "#46039f"
             ],
             [
              0.2222222222222222,
              "#7201a8"
             ],
             [
              0.3333333333333333,
              "#9c179e"
             ],
             [
              0.4444444444444444,
              "#bd3786"
             ],
             [
              0.5555555555555556,
              "#d8576b"
             ],
             [
              0.6666666666666666,
              "#ed7953"
             ],
             [
              0.7777777777777778,
              "#fb9f3a"
             ],
             [
              0.8888888888888888,
              "#fdca26"
             ],
             [
              1,
              "#f0f921"
             ]
            ],
            "type": "contour"
           }
          ],
          "contourcarpet": [
           {
            "colorbar": {
             "outlinewidth": 0,
             "ticks": ""
            },
            "type": "contourcarpet"
           }
          ],
          "heatmap": [
           {
            "colorbar": {
             "outlinewidth": 0,
             "ticks": ""
            },
            "colorscale": [
             [
              0,
              "#0d0887"
             ],
             [
              0.1111111111111111,
              "#46039f"
             ],
             [
              0.2222222222222222,
              "#7201a8"
             ],
             [
              0.3333333333333333,
              "#9c179e"
             ],
             [
              0.4444444444444444,
              "#bd3786"
             ],
             [
              0.5555555555555556,
              "#d8576b"
             ],
             [
              0.6666666666666666,
              "#ed7953"
             ],
             [
              0.7777777777777778,
              "#fb9f3a"
             ],
             [
              0.8888888888888888,
              "#fdca26"
             ],
             [
              1,
              "#f0f921"
             ]
            ],
            "type": "heatmap"
           }
          ],
          "heatmapgl": [
           {
            "colorbar": {
             "outlinewidth": 0,
             "ticks": ""
            },
            "colorscale": [
             [
              0,
              "#0d0887"
             ],
             [
              0.1111111111111111,
              "#46039f"
             ],
             [
              0.2222222222222222,
              "#7201a8"
             ],
             [
              0.3333333333333333,
              "#9c179e"
             ],
             [
              0.4444444444444444,
              "#bd3786"
             ],
             [
              0.5555555555555556,
              "#d8576b"
             ],
             [
              0.6666666666666666,
              "#ed7953"
             ],
             [
              0.7777777777777778,
              "#fb9f3a"
             ],
             [
              0.8888888888888888,
              "#fdca26"
             ],
             [
              1,
              "#f0f921"
             ]
            ],
            "type": "heatmapgl"
           }
          ],
          "histogram": [
           {
            "marker": {
             "pattern": {
              "fillmode": "overlay",
              "size": 10,
              "solidity": 0.2
             }
            },
            "type": "histogram"
           }
          ],
          "histogram2d": [
           {
            "colorbar": {
             "outlinewidth": 0,
             "ticks": ""
            },
            "colorscale": [
             [
              0,
              "#0d0887"
             ],
             [
              0.1111111111111111,
              "#46039f"
             ],
             [
              0.2222222222222222,
              "#7201a8"
             ],
             [
              0.3333333333333333,
              "#9c179e"
             ],
             [
              0.4444444444444444,
              "#bd3786"
             ],
             [
              0.5555555555555556,
              "#d8576b"
             ],
             [
              0.6666666666666666,
              "#ed7953"
             ],
             [
              0.7777777777777778,
              "#fb9f3a"
             ],
             [
              0.8888888888888888,
              "#fdca26"
             ],
             [
              1,
              "#f0f921"
             ]
            ],
            "type": "histogram2d"
           }
          ],
          "histogram2dcontour": [
           {
            "colorbar": {
             "outlinewidth": 0,
             "ticks": ""
            },
            "colorscale": [
             [
              0,
              "#0d0887"
             ],
             [
              0.1111111111111111,
              "#46039f"
             ],
             [
              0.2222222222222222,
              "#7201a8"
             ],
             [
              0.3333333333333333,
              "#9c179e"
             ],
             [
              0.4444444444444444,
              "#bd3786"
             ],
             [
              0.5555555555555556,
              "#d8576b"
             ],
             [
              0.6666666666666666,
              "#ed7953"
             ],
             [
              0.7777777777777778,
              "#fb9f3a"
             ],
             [
              0.8888888888888888,
              "#fdca26"
             ],
             [
              1,
              "#f0f921"
             ]
            ],
            "type": "histogram2dcontour"
           }
          ],
          "mesh3d": [
           {
            "colorbar": {
             "outlinewidth": 0,
             "ticks": ""
            },
            "type": "mesh3d"
           }
          ],
          "parcoords": [
           {
            "line": {
             "colorbar": {
              "outlinewidth": 0,
              "ticks": ""
             }
            },
            "type": "parcoords"
           }
          ],
          "pie": [
           {
            "automargin": true,
            "type": "pie"
           }
          ],
          "scatter": [
           {
            "fillpattern": {
             "fillmode": "overlay",
             "size": 10,
             "solidity": 0.2
            },
            "type": "scatter"
           }
          ],
          "scatter3d": [
           {
            "line": {
             "colorbar": {
              "outlinewidth": 0,
              "ticks": ""
             }
            },
            "marker": {
             "colorbar": {
              "outlinewidth": 0,
              "ticks": ""
             }
            },
            "type": "scatter3d"
           }
          ],
          "scattercarpet": [
           {
            "marker": {
             "colorbar": {
              "outlinewidth": 0,
              "ticks": ""
             }
            },
            "type": "scattercarpet"
           }
          ],
          "scattergeo": [
           {
            "marker": {
             "colorbar": {
              "outlinewidth": 0,
              "ticks": ""
             }
            },
            "type": "scattergeo"
           }
          ],
          "scattergl": [
           {
            "marker": {
             "colorbar": {
              "outlinewidth": 0,
              "ticks": ""
             }
            },
            "type": "scattergl"
           }
          ],
          "scattermapbox": [
           {
            "marker": {
             "colorbar": {
              "outlinewidth": 0,
              "ticks": ""
             }
            },
            "type": "scattermapbox"
           }
          ],
          "scatterpolar": [
           {
            "marker": {
             "colorbar": {
              "outlinewidth": 0,
              "ticks": ""
             }
            },
            "type": "scatterpolar"
           }
          ],
          "scatterpolargl": [
           {
            "marker": {
             "colorbar": {
              "outlinewidth": 0,
              "ticks": ""
             }
            },
            "type": "scatterpolargl"
           }
          ],
          "scatterternary": [
           {
            "marker": {
             "colorbar": {
              "outlinewidth": 0,
              "ticks": ""
             }
            },
            "type": "scatterternary"
           }
          ],
          "surface": [
           {
            "colorbar": {
             "outlinewidth": 0,
             "ticks": ""
            },
            "colorscale": [
             [
              0,
              "#0d0887"
             ],
             [
              0.1111111111111111,
              "#46039f"
             ],
             [
              0.2222222222222222,
              "#7201a8"
             ],
             [
              0.3333333333333333,
              "#9c179e"
             ],
             [
              0.4444444444444444,
              "#bd3786"
             ],
             [
              0.5555555555555556,
              "#d8576b"
             ],
             [
              0.6666666666666666,
              "#ed7953"
             ],
             [
              0.7777777777777778,
              "#fb9f3a"
             ],
             [
              0.8888888888888888,
              "#fdca26"
             ],
             [
              1,
              "#f0f921"
             ]
            ],
            "type": "surface"
           }
          ],
          "table": [
           {
            "cells": {
             "fill": {
              "color": "#EBF0F8"
             },
             "line": {
              "color": "white"
             }
            },
            "header": {
             "fill": {
              "color": "#C8D4E3"
             },
             "line": {
              "color": "white"
             }
            },
            "type": "table"
           }
          ]
         },
         "layout": {
          "annotationdefaults": {
           "arrowcolor": "#2a3f5f",
           "arrowhead": 0,
           "arrowwidth": 1
          },
          "autotypenumbers": "strict",
          "coloraxis": {
           "colorbar": {
            "outlinewidth": 0,
            "ticks": ""
           }
          },
          "colorscale": {
           "diverging": [
            [
             0,
             "#8e0152"
            ],
            [
             0.1,
             "#c51b7d"
            ],
            [
             0.2,
             "#de77ae"
            ],
            [
             0.3,
             "#f1b6da"
            ],
            [
             0.4,
             "#fde0ef"
            ],
            [
             0.5,
             "#f7f7f7"
            ],
            [
             0.6,
             "#e6f5d0"
            ],
            [
             0.7,
             "#b8e186"
            ],
            [
             0.8,
             "#7fbc41"
            ],
            [
             0.9,
             "#4d9221"
            ],
            [
             1,
             "#276419"
            ]
           ],
           "sequential": [
            [
             0,
             "#0d0887"
            ],
            [
             0.1111111111111111,
             "#46039f"
            ],
            [
             0.2222222222222222,
             "#7201a8"
            ],
            [
             0.3333333333333333,
             "#9c179e"
            ],
            [
             0.4444444444444444,
             "#bd3786"
            ],
            [
             0.5555555555555556,
             "#d8576b"
            ],
            [
             0.6666666666666666,
             "#ed7953"
            ],
            [
             0.7777777777777778,
             "#fb9f3a"
            ],
            [
             0.8888888888888888,
             "#fdca26"
            ],
            [
             1,
             "#f0f921"
            ]
           ],
           "sequentialminus": [
            [
             0,
             "#0d0887"
            ],
            [
             0.1111111111111111,
             "#46039f"
            ],
            [
             0.2222222222222222,
             "#7201a8"
            ],
            [
             0.3333333333333333,
             "#9c179e"
            ],
            [
             0.4444444444444444,
             "#bd3786"
            ],
            [
             0.5555555555555556,
             "#d8576b"
            ],
            [
             0.6666666666666666,
             "#ed7953"
            ],
            [
             0.7777777777777778,
             "#fb9f3a"
            ],
            [
             0.8888888888888888,
             "#fdca26"
            ],
            [
             1,
             "#f0f921"
            ]
           ]
          },
          "colorway": [
           "#636efa",
           "#EF553B",
           "#00cc96",
           "#ab63fa",
           "#FFA15A",
           "#19d3f3",
           "#FF6692",
           "#B6E880",
           "#FF97FF",
           "#FECB52"
          ],
          "font": {
           "color": "#2a3f5f"
          },
          "geo": {
           "bgcolor": "white",
           "lakecolor": "white",
           "landcolor": "white",
           "showlakes": true,
           "showland": true,
           "subunitcolor": "#C8D4E3"
          },
          "hoverlabel": {
           "align": "left"
          },
          "hovermode": "closest",
          "mapbox": {
           "style": "light"
          },
          "paper_bgcolor": "white",
          "plot_bgcolor": "white",
          "polar": {
           "angularaxis": {
            "gridcolor": "#EBF0F8",
            "linecolor": "#EBF0F8",
            "ticks": ""
           },
           "bgcolor": "white",
           "radialaxis": {
            "gridcolor": "#EBF0F8",
            "linecolor": "#EBF0F8",
            "ticks": ""
           }
          },
          "scene": {
           "xaxis": {
            "backgroundcolor": "white",
            "gridcolor": "#DFE8F3",
            "gridwidth": 2,
            "linecolor": "#EBF0F8",
            "showbackground": true,
            "ticks": "",
            "zerolinecolor": "#EBF0F8"
           },
           "yaxis": {
            "backgroundcolor": "white",
            "gridcolor": "#DFE8F3",
            "gridwidth": 2,
            "linecolor": "#EBF0F8",
            "showbackground": true,
            "ticks": "",
            "zerolinecolor": "#EBF0F8"
           },
           "zaxis": {
            "backgroundcolor": "white",
            "gridcolor": "#DFE8F3",
            "gridwidth": 2,
            "linecolor": "#EBF0F8",
            "showbackground": true,
            "ticks": "",
            "zerolinecolor": "#EBF0F8"
           }
          },
          "shapedefaults": {
           "line": {
            "color": "#2a3f5f"
           }
          },
          "ternary": {
           "aaxis": {
            "gridcolor": "#DFE8F3",
            "linecolor": "#A2B1C6",
            "ticks": ""
           },
           "baxis": {
            "gridcolor": "#DFE8F3",
            "linecolor": "#A2B1C6",
            "ticks": ""
           },
           "bgcolor": "white",
           "caxis": {
            "gridcolor": "#DFE8F3",
            "linecolor": "#A2B1C6",
            "ticks": ""
           }
          },
          "title": {
           "x": 0.05
          },
          "xaxis": {
           "automargin": true,
           "gridcolor": "#EBF0F8",
           "linecolor": "#EBF0F8",
           "ticks": "",
           "title": {
            "standoff": 15
           },
           "zerolinecolor": "#EBF0F8",
           "zerolinewidth": 2
          },
          "yaxis": {
           "automargin": true,
           "gridcolor": "#EBF0F8",
           "linecolor": "#EBF0F8",
           "ticks": "",
           "title": {
            "standoff": 15
           },
           "zerolinecolor": "#EBF0F8",
           "zerolinewidth": 2
          }
         }
        },
        "width": 1200,
        "xaxis": {
         "title": {
          "text": "year"
         }
        },
        "yaxis": {
         "title": {
          "text": "cigarette sales (in packs)"
         }
        }
       }
      }
     },
     "metadata": {},
     "output_type": "display_data"
    }
   ],
   "source": [
    "pred_scm = control_outcome @ alpha_scm\n",
    "\n",
    "fig = go.Figure()\n",
    "fig.add_trace(\n",
    "    go.Scatter(\n",
    "        x=year,\n",
    "        y=treatment_outcome,\n",
    "        name='California'\n",
    "    )\n",
    ")\n",
    "\n",
    "fig.add_trace(\n",
    "    go.Scatter(\n",
    "        x=year,\n",
    "        y=pred_scm,\n",
    "        name='Synthetic California'\n",
    "    )\n",
    ")\n",
    "\n",
    "fig.add_trace(\n",
    "    go.Scatter(\n",
    "        x=year,\n",
    "        y=pred_OLS,\n",
    "        name='OLS',\n",
    "        opacity=0.5\n",
    "    )\n",
    ")\n",
    "\n",
    "fig.add_vline(\n",
    "    x=1988\n",
    ")\n",
    "\n",
    "fig.update_layout(\n",
    "    template='plotly_white',\n",
    "    xaxis_title='year',\n",
    "    yaxis_title='cigarette sales (in packs)',\n",
    "    legend=dict(\n",
    "    orientation=\"h\",\n",
    "    yanchor=\"bottom\",\n",
    "    y=1.02,\n",
    "    xanchor=\"right\",\n",
    "    x=1\n",
    "    ),\n",
    "    width=1200,\n",
    "    height=600,\n",
    ")"
   ]
  },
  {
   "cell_type": "code",
   "execution_count": 339,
   "metadata": {},
   "outputs": [
    {
     "data": {
      "application/vnd.plotly.v1+json": {
       "config": {
        "plotlyServerURL": "https://plot.ly"
       },
       "data": [
        {
         "name": "SCM",
         "type": "scatter",
         "x": [
          1970,
          1971,
          1972,
          1973,
          1974,
          1975,
          1976,
          1977,
          1978,
          1979,
          1980,
          1981,
          1982,
          1983,
          1984,
          1985,
          1986,
          1987,
          1988,
          1989,
          1990,
          1991,
          1992,
          1993,
          1994,
          1995,
          1996,
          1997,
          1998,
          1999,
          2000
         ],
         "y": [
          6.6227256674664545,
          1.7068571772945518,
          -1.9642403423890187,
          0.38942602209550614,
          1.6945455824455138,
          0.9725622233195281,
          -0.40343960824310443,
          0.06690631427409244,
          0.44198102361676206,
          -0.6766690100100163,
          -0.8247571812335082,
          -2.18996680948392,
          -0.41663603732999377,
          -1.9217355655590325,
          0.6655903580565479,
          -0.5141089522301172,
          -1.978623577631737,
          -2.81150665601848,
          -2.5045743965739575,
          -7.579801433680046,
          -6.674492651329842,
          -11.716544435271828,
          -12.951697996837552,
          -16.200246847017297,
          -20.512821997932335,
          -21.49071508332817,
          -22.728606322289636,
          -23.697996384188983,
          -22.705787329831168,
          -26.63545974451202,
          -24.83029002188269
         ]
        },
        {
         "name": "OLS",
         "opacity": 0.5,
         "type": "scatter",
         "x": [
          1970,
          1971,
          1972,
          1973,
          1974,
          1975,
          1976,
          1977,
          1978,
          1979,
          1980,
          1981,
          1982,
          1983,
          1984,
          1985,
          1986,
          1987,
          1988,
          1989,
          1990,
          1991,
          1992,
          1993,
          1994,
          1995,
          1996,
          1997,
          1998,
          1999,
          2000
         ],
         "y": [
          -1.15045166015625,
          -1.2717819213867188,
          -1.16522216796875,
          -0.9114608764648438,
          -0.8286590576171875,
          -0.46807861328125,
          -0.4951019287109375,
          -0.6838302612304688,
          -0.6804046630859375,
          -0.6072463989257812,
          -0.6749267578125,
          -0.8065567016601562,
          -0.806884765625,
          -0.78497314453125,
          -0.9380340576171875,
          -0.9771957397460938,
          -1.2940826416015625,
          -1.4696197509765625,
          -1.4014053344726562,
          -5.6602935791015625,
          -18.1241455078125,
          -14.818344116210938,
          -0.5770187377929688,
          -29.53564453125,
          -35.72369384765625,
          -31.29651641845703,
          -38.898338317871094,
          -33.340816497802734,
          -14.672100067138672,
          -27.600536346435547,
          -21.67791748046875
         ]
        }
       ],
       "layout": {
        "height": 600,
        "legend": {
         "orientation": "h",
         "x": 1,
         "xanchor": "right",
         "y": 1.02,
         "yanchor": "bottom"
        },
        "shapes": [
         {
          "type": "line",
          "x0": 1988,
          "x1": 1988,
          "xref": "x",
          "y0": 0,
          "y1": 1,
          "yref": "y domain"
         },
         {
          "opacity": 0.3,
          "type": "line",
          "x0": 0,
          "x1": 1,
          "xref": "x domain",
          "y0": 0,
          "y1": 0,
          "yref": "y"
         }
        ],
        "template": {
         "data": {
          "bar": [
           {
            "error_x": {
             "color": "#2a3f5f"
            },
            "error_y": {
             "color": "#2a3f5f"
            },
            "marker": {
             "line": {
              "color": "white",
              "width": 0.5
             },
             "pattern": {
              "fillmode": "overlay",
              "size": 10,
              "solidity": 0.2
             }
            },
            "type": "bar"
           }
          ],
          "barpolar": [
           {
            "marker": {
             "line": {
              "color": "white",
              "width": 0.5
             },
             "pattern": {
              "fillmode": "overlay",
              "size": 10,
              "solidity": 0.2
             }
            },
            "type": "barpolar"
           }
          ],
          "carpet": [
           {
            "aaxis": {
             "endlinecolor": "#2a3f5f",
             "gridcolor": "#C8D4E3",
             "linecolor": "#C8D4E3",
             "minorgridcolor": "#C8D4E3",
             "startlinecolor": "#2a3f5f"
            },
            "baxis": {
             "endlinecolor": "#2a3f5f",
             "gridcolor": "#C8D4E3",
             "linecolor": "#C8D4E3",
             "minorgridcolor": "#C8D4E3",
             "startlinecolor": "#2a3f5f"
            },
            "type": "carpet"
           }
          ],
          "choropleth": [
           {
            "colorbar": {
             "outlinewidth": 0,
             "ticks": ""
            },
            "type": "choropleth"
           }
          ],
          "contour": [
           {
            "colorbar": {
             "outlinewidth": 0,
             "ticks": ""
            },
            "colorscale": [
             [
              0,
              "#0d0887"
             ],
             [
              0.1111111111111111,
              "#46039f"
             ],
             [
              0.2222222222222222,
              "#7201a8"
             ],
             [
              0.3333333333333333,
              "#9c179e"
             ],
             [
              0.4444444444444444,
              "#bd3786"
             ],
             [
              0.5555555555555556,
              "#d8576b"
             ],
             [
              0.6666666666666666,
              "#ed7953"
             ],
             [
              0.7777777777777778,
              "#fb9f3a"
             ],
             [
              0.8888888888888888,
              "#fdca26"
             ],
             [
              1,
              "#f0f921"
             ]
            ],
            "type": "contour"
           }
          ],
          "contourcarpet": [
           {
            "colorbar": {
             "outlinewidth": 0,
             "ticks": ""
            },
            "type": "contourcarpet"
           }
          ],
          "heatmap": [
           {
            "colorbar": {
             "outlinewidth": 0,
             "ticks": ""
            },
            "colorscale": [
             [
              0,
              "#0d0887"
             ],
             [
              0.1111111111111111,
              "#46039f"
             ],
             [
              0.2222222222222222,
              "#7201a8"
             ],
             [
              0.3333333333333333,
              "#9c179e"
             ],
             [
              0.4444444444444444,
              "#bd3786"
             ],
             [
              0.5555555555555556,
              "#d8576b"
             ],
             [
              0.6666666666666666,
              "#ed7953"
             ],
             [
              0.7777777777777778,
              "#fb9f3a"
             ],
             [
              0.8888888888888888,
              "#fdca26"
             ],
             [
              1,
              "#f0f921"
             ]
            ],
            "type": "heatmap"
           }
          ],
          "heatmapgl": [
           {
            "colorbar": {
             "outlinewidth": 0,
             "ticks": ""
            },
            "colorscale": [
             [
              0,
              "#0d0887"
             ],
             [
              0.1111111111111111,
              "#46039f"
             ],
             [
              0.2222222222222222,
              "#7201a8"
             ],
             [
              0.3333333333333333,
              "#9c179e"
             ],
             [
              0.4444444444444444,
              "#bd3786"
             ],
             [
              0.5555555555555556,
              "#d8576b"
             ],
             [
              0.6666666666666666,
              "#ed7953"
             ],
             [
              0.7777777777777778,
              "#fb9f3a"
             ],
             [
              0.8888888888888888,
              "#fdca26"
             ],
             [
              1,
              "#f0f921"
             ]
            ],
            "type": "heatmapgl"
           }
          ],
          "histogram": [
           {
            "marker": {
             "pattern": {
              "fillmode": "overlay",
              "size": 10,
              "solidity": 0.2
             }
            },
            "type": "histogram"
           }
          ],
          "histogram2d": [
           {
            "colorbar": {
             "outlinewidth": 0,
             "ticks": ""
            },
            "colorscale": [
             [
              0,
              "#0d0887"
             ],
             [
              0.1111111111111111,
              "#46039f"
             ],
             [
              0.2222222222222222,
              "#7201a8"
             ],
             [
              0.3333333333333333,
              "#9c179e"
             ],
             [
              0.4444444444444444,
              "#bd3786"
             ],
             [
              0.5555555555555556,
              "#d8576b"
             ],
             [
              0.6666666666666666,
              "#ed7953"
             ],
             [
              0.7777777777777778,
              "#fb9f3a"
             ],
             [
              0.8888888888888888,
              "#fdca26"
             ],
             [
              1,
              "#f0f921"
             ]
            ],
            "type": "histogram2d"
           }
          ],
          "histogram2dcontour": [
           {
            "colorbar": {
             "outlinewidth": 0,
             "ticks": ""
            },
            "colorscale": [
             [
              0,
              "#0d0887"
             ],
             [
              0.1111111111111111,
              "#46039f"
             ],
             [
              0.2222222222222222,
              "#7201a8"
             ],
             [
              0.3333333333333333,
              "#9c179e"
             ],
             [
              0.4444444444444444,
              "#bd3786"
             ],
             [
              0.5555555555555556,
              "#d8576b"
             ],
             [
              0.6666666666666666,
              "#ed7953"
             ],
             [
              0.7777777777777778,
              "#fb9f3a"
             ],
             [
              0.8888888888888888,
              "#fdca26"
             ],
             [
              1,
              "#f0f921"
             ]
            ],
            "type": "histogram2dcontour"
           }
          ],
          "mesh3d": [
           {
            "colorbar": {
             "outlinewidth": 0,
             "ticks": ""
            },
            "type": "mesh3d"
           }
          ],
          "parcoords": [
           {
            "line": {
             "colorbar": {
              "outlinewidth": 0,
              "ticks": ""
             }
            },
            "type": "parcoords"
           }
          ],
          "pie": [
           {
            "automargin": true,
            "type": "pie"
           }
          ],
          "scatter": [
           {
            "fillpattern": {
             "fillmode": "overlay",
             "size": 10,
             "solidity": 0.2
            },
            "type": "scatter"
           }
          ],
          "scatter3d": [
           {
            "line": {
             "colorbar": {
              "outlinewidth": 0,
              "ticks": ""
             }
            },
            "marker": {
             "colorbar": {
              "outlinewidth": 0,
              "ticks": ""
             }
            },
            "type": "scatter3d"
           }
          ],
          "scattercarpet": [
           {
            "marker": {
             "colorbar": {
              "outlinewidth": 0,
              "ticks": ""
             }
            },
            "type": "scattercarpet"
           }
          ],
          "scattergeo": [
           {
            "marker": {
             "colorbar": {
              "outlinewidth": 0,
              "ticks": ""
             }
            },
            "type": "scattergeo"
           }
          ],
          "scattergl": [
           {
            "marker": {
             "colorbar": {
              "outlinewidth": 0,
              "ticks": ""
             }
            },
            "type": "scattergl"
           }
          ],
          "scattermapbox": [
           {
            "marker": {
             "colorbar": {
              "outlinewidth": 0,
              "ticks": ""
             }
            },
            "type": "scattermapbox"
           }
          ],
          "scatterpolar": [
           {
            "marker": {
             "colorbar": {
              "outlinewidth": 0,
              "ticks": ""
             }
            },
            "type": "scatterpolar"
           }
          ],
          "scatterpolargl": [
           {
            "marker": {
             "colorbar": {
              "outlinewidth": 0,
              "ticks": ""
             }
            },
            "type": "scatterpolargl"
           }
          ],
          "scatterternary": [
           {
            "marker": {
             "colorbar": {
              "outlinewidth": 0,
              "ticks": ""
             }
            },
            "type": "scatterternary"
           }
          ],
          "surface": [
           {
            "colorbar": {
             "outlinewidth": 0,
             "ticks": ""
            },
            "colorscale": [
             [
              0,
              "#0d0887"
             ],
             [
              0.1111111111111111,
              "#46039f"
             ],
             [
              0.2222222222222222,
              "#7201a8"
             ],
             [
              0.3333333333333333,
              "#9c179e"
             ],
             [
              0.4444444444444444,
              "#bd3786"
             ],
             [
              0.5555555555555556,
              "#d8576b"
             ],
             [
              0.6666666666666666,
              "#ed7953"
             ],
             [
              0.7777777777777778,
              "#fb9f3a"
             ],
             [
              0.8888888888888888,
              "#fdca26"
             ],
             [
              1,
              "#f0f921"
             ]
            ],
            "type": "surface"
           }
          ],
          "table": [
           {
            "cells": {
             "fill": {
              "color": "#EBF0F8"
             },
             "line": {
              "color": "white"
             }
            },
            "header": {
             "fill": {
              "color": "#C8D4E3"
             },
             "line": {
              "color": "white"
             }
            },
            "type": "table"
           }
          ]
         },
         "layout": {
          "annotationdefaults": {
           "arrowcolor": "#2a3f5f",
           "arrowhead": 0,
           "arrowwidth": 1
          },
          "autotypenumbers": "strict",
          "coloraxis": {
           "colorbar": {
            "outlinewidth": 0,
            "ticks": ""
           }
          },
          "colorscale": {
           "diverging": [
            [
             0,
             "#8e0152"
            ],
            [
             0.1,
             "#c51b7d"
            ],
            [
             0.2,
             "#de77ae"
            ],
            [
             0.3,
             "#f1b6da"
            ],
            [
             0.4,
             "#fde0ef"
            ],
            [
             0.5,
             "#f7f7f7"
            ],
            [
             0.6,
             "#e6f5d0"
            ],
            [
             0.7,
             "#b8e186"
            ],
            [
             0.8,
             "#7fbc41"
            ],
            [
             0.9,
             "#4d9221"
            ],
            [
             1,
             "#276419"
            ]
           ],
           "sequential": [
            [
             0,
             "#0d0887"
            ],
            [
             0.1111111111111111,
             "#46039f"
            ],
            [
             0.2222222222222222,
             "#7201a8"
            ],
            [
             0.3333333333333333,
             "#9c179e"
            ],
            [
             0.4444444444444444,
             "#bd3786"
            ],
            [
             0.5555555555555556,
             "#d8576b"
            ],
            [
             0.6666666666666666,
             "#ed7953"
            ],
            [
             0.7777777777777778,
             "#fb9f3a"
            ],
            [
             0.8888888888888888,
             "#fdca26"
            ],
            [
             1,
             "#f0f921"
            ]
           ],
           "sequentialminus": [
            [
             0,
             "#0d0887"
            ],
            [
             0.1111111111111111,
             "#46039f"
            ],
            [
             0.2222222222222222,
             "#7201a8"
            ],
            [
             0.3333333333333333,
             "#9c179e"
            ],
            [
             0.4444444444444444,
             "#bd3786"
            ],
            [
             0.5555555555555556,
             "#d8576b"
            ],
            [
             0.6666666666666666,
             "#ed7953"
            ],
            [
             0.7777777777777778,
             "#fb9f3a"
            ],
            [
             0.8888888888888888,
             "#fdca26"
            ],
            [
             1,
             "#f0f921"
            ]
           ]
          },
          "colorway": [
           "#636efa",
           "#EF553B",
           "#00cc96",
           "#ab63fa",
           "#FFA15A",
           "#19d3f3",
           "#FF6692",
           "#B6E880",
           "#FF97FF",
           "#FECB52"
          ],
          "font": {
           "color": "#2a3f5f"
          },
          "geo": {
           "bgcolor": "white",
           "lakecolor": "white",
           "landcolor": "white",
           "showlakes": true,
           "showland": true,
           "subunitcolor": "#C8D4E3"
          },
          "hoverlabel": {
           "align": "left"
          },
          "hovermode": "closest",
          "mapbox": {
           "style": "light"
          },
          "paper_bgcolor": "white",
          "plot_bgcolor": "white",
          "polar": {
           "angularaxis": {
            "gridcolor": "#EBF0F8",
            "linecolor": "#EBF0F8",
            "ticks": ""
           },
           "bgcolor": "white",
           "radialaxis": {
            "gridcolor": "#EBF0F8",
            "linecolor": "#EBF0F8",
            "ticks": ""
           }
          },
          "scene": {
           "xaxis": {
            "backgroundcolor": "white",
            "gridcolor": "#DFE8F3",
            "gridwidth": 2,
            "linecolor": "#EBF0F8",
            "showbackground": true,
            "ticks": "",
            "zerolinecolor": "#EBF0F8"
           },
           "yaxis": {
            "backgroundcolor": "white",
            "gridcolor": "#DFE8F3",
            "gridwidth": 2,
            "linecolor": "#EBF0F8",
            "showbackground": true,
            "ticks": "",
            "zerolinecolor": "#EBF0F8"
           },
           "zaxis": {
            "backgroundcolor": "white",
            "gridcolor": "#DFE8F3",
            "gridwidth": 2,
            "linecolor": "#EBF0F8",
            "showbackground": true,
            "ticks": "",
            "zerolinecolor": "#EBF0F8"
           }
          },
          "shapedefaults": {
           "line": {
            "color": "#2a3f5f"
           }
          },
          "ternary": {
           "aaxis": {
            "gridcolor": "#DFE8F3",
            "linecolor": "#A2B1C6",
            "ticks": ""
           },
           "baxis": {
            "gridcolor": "#DFE8F3",
            "linecolor": "#A2B1C6",
            "ticks": ""
           },
           "bgcolor": "white",
           "caxis": {
            "gridcolor": "#DFE8F3",
            "linecolor": "#A2B1C6",
            "ticks": ""
           }
          },
          "title": {
           "x": 0.05
          },
          "xaxis": {
           "automargin": true,
           "gridcolor": "#EBF0F8",
           "linecolor": "#EBF0F8",
           "ticks": "",
           "title": {
            "standoff": 15
           },
           "zerolinecolor": "#EBF0F8",
           "zerolinewidth": 2
          },
          "yaxis": {
           "automargin": true,
           "gridcolor": "#EBF0F8",
           "linecolor": "#EBF0F8",
           "ticks": "",
           "title": {
            "standoff": 15
           },
           "zerolinecolor": "#EBF0F8",
           "zerolinewidth": 2
          }
         }
        },
        "title": {
         "text": "Estimatied Result of Treatment Effect"
        },
        "width": 1200,
        "xaxis": {
         "title": {
          "text": "year"
         }
        },
        "yaxis": {
         "title": {
          "text": "Treatment Effect"
         }
        }
       }
      }
     },
     "metadata": {},
     "output_type": "display_data"
    }
   ],
   "source": [
    "fig = go.Figure()\n",
    "\n",
    "fig.add_trace(\n",
    "    go.Scatter(\n",
    "        x=year,\n",
    "        y=treatment_outcome - pred_scm,\n",
    "        name='SCM'\n",
    "    )\n",
    ")\n",
    "\n",
    "fig.add_trace(\n",
    "    go.Scatter(\n",
    "        x=year,\n",
    "        y=treatment_outcome - pred_OLS,\n",
    "        opacity=0.5,\n",
    "        name='OLS'\n",
    "    )\n",
    ")\n",
    "\n",
    "fig.add_vline(\n",
    "    x=1988\n",
    ")\n",
    "\n",
    "fig.add_hline(\n",
    "    y=0,\n",
    "    opacity=0.3\n",
    ")\n",
    "\n",
    "fig.update_layout(\n",
    "    template='plotly_white',\n",
    "    xaxis_title='year',\n",
    "    yaxis_title='Treatment Effect',\n",
    "    legend=dict(\n",
    "    orientation=\"h\",\n",
    "    yanchor=\"bottom\",\n",
    "    y=1.02,\n",
    "    xanchor=\"right\",\n",
    "    x=1\n",
    "    ),\n",
    "    width=1200,\n",
    "    height=600,\n",
    "    title='Estimatied Result of Treatment Effect'\n",
    ")\n",
    "\n",
    "fig.show()"
   ]
  },
  {
   "cell_type": "code",
   "execution_count": 350,
   "metadata": {},
   "outputs": [
    {
     "data": {
      "application/vnd.plotly.v1+json": {
       "config": {
        "plotlyServerURL": "https://plot.ly"
       },
       "data": [
        {
         "name": "SCM",
         "type": "bar",
         "x": [
          "Alabama",
          "Arkansas",
          "Colorado",
          "Connecticut",
          "Delaware",
          "Georgia",
          "Idaho",
          "Illinois",
          "Indiana",
          "Iowa",
          "Kansas",
          "Kentucky",
          "Louisiana",
          "Maine",
          "Minnesota",
          "Mississippi",
          "Missouri",
          "Montana",
          "Nebraska",
          "Nevada",
          "New Hampshire",
          "New Mexico",
          "North Carolina",
          "North Dakota",
          "Ohio",
          "Oklahoma",
          "Pennsylvania",
          "Rhode Island",
          "South Carolina",
          "South Dakota",
          "Tennessee",
          "Texas",
          "Utah",
          "Vermont",
          "Virginia",
          "West Virginia",
          "Wisconsin",
          "Wyoming"
         ],
         "y": [
          4.1029360011018034e-13,
          5.920590590426834e-13,
          0,
          0.08526150485847228,
          0,
          0,
          0,
          0,
          0,
          4.464067133674856e-14,
          6.356761869826677e-14,
          7.556916464147234e-13,
          5.53905493348961e-13,
          4.0973672252768817e-13,
          0,
          9.568724740077447e-13,
          4.069319548449579e-13,
          0,
          0,
          0.11299730631381694,
          0.10505107256538457,
          0.45663797240754744,
          0,
          2.16517658924815e-13,
          0,
          1.832354322602262e-13,
          0,
          3.4260143146168694e-13,
          2.6677730429196004e-15,
          1.4922113333708575e-13,
          2.8480004794271507e-13,
          0,
          0.24005214385719792,
          9.760745490014897e-13,
          9.61859056479424e-14,
          0,
          0,
          0
         ]
        },
        {
         "name": "OLS",
         "type": "bar",
         "x": [
          "Alabama",
          "Arkansas",
          "Colorado",
          "Connecticut",
          "Delaware",
          "Georgia",
          "Idaho",
          "Illinois",
          "Indiana",
          "Iowa",
          "Kansas",
          "Kentucky",
          "Louisiana",
          "Maine",
          "Minnesota",
          "Mississippi",
          "Missouri",
          "Montana",
          "Nebraska",
          "Nevada",
          "New Hampshire",
          "New Mexico",
          "North Carolina",
          "North Dakota",
          "Ohio",
          "Oklahoma",
          "Pennsylvania",
          "Rhode Island",
          "South Carolina",
          "South Dakota",
          "Tennessee",
          "Texas",
          "Utah",
          "Vermont",
          "Virginia",
          "West Virginia",
          "Wisconsin",
          "Wyoming"
         ],
         "y": [
          -0.6183909177780151,
          -0.9181590676307678,
          0.6326497197151184,
          0.2758882939815521,
          0.2631961703300476,
          0.9576927423477173,
          0.16843922436237335,
          0.30328837037086487,
          -0.33089956641197205,
          -0.09895922243595123,
          -0.5780140161514282,
          0.9571800231933594,
          -0.3559921681880951,
          0.2784207761287689,
          -0.02984888292849064,
          -0.4552692472934723,
          -0.16417178511619568,
          -0.6214064955711365,
          -0.17508630454540253,
          -0.07736115902662277,
          0.07853620499372482,
          0.3818342089653015,
          -0.3261374831199646,
          0.4188823997974396,
          0.21632353961467743,
          -0.12510615587234497,
          -0.10048867017030716,
          0.2098933607339859,
          -0.3977842926979065,
          0.7336196303367615,
          0.3154889643192291,
          -0.05796641856431961,
          0.5041530132293701,
          -0.2102217823266983,
          -0.766876220703125,
          0.7372004985809326,
          0.025967026129364967,
          -0.0994625836610794
         ]
        }
       ],
       "layout": {
        "height": 600,
        "legend": {
         "orientation": "h",
         "x": 1,
         "xanchor": "right",
         "y": 1.02,
         "yanchor": "bottom"
        },
        "template": {
         "data": {
          "bar": [
           {
            "error_x": {
             "color": "#2a3f5f"
            },
            "error_y": {
             "color": "#2a3f5f"
            },
            "marker": {
             "line": {
              "color": "white",
              "width": 0.5
             },
             "pattern": {
              "fillmode": "overlay",
              "size": 10,
              "solidity": 0.2
             }
            },
            "type": "bar"
           }
          ],
          "barpolar": [
           {
            "marker": {
             "line": {
              "color": "white",
              "width": 0.5
             },
             "pattern": {
              "fillmode": "overlay",
              "size": 10,
              "solidity": 0.2
             }
            },
            "type": "barpolar"
           }
          ],
          "carpet": [
           {
            "aaxis": {
             "endlinecolor": "#2a3f5f",
             "gridcolor": "#C8D4E3",
             "linecolor": "#C8D4E3",
             "minorgridcolor": "#C8D4E3",
             "startlinecolor": "#2a3f5f"
            },
            "baxis": {
             "endlinecolor": "#2a3f5f",
             "gridcolor": "#C8D4E3",
             "linecolor": "#C8D4E3",
             "minorgridcolor": "#C8D4E3",
             "startlinecolor": "#2a3f5f"
            },
            "type": "carpet"
           }
          ],
          "choropleth": [
           {
            "colorbar": {
             "outlinewidth": 0,
             "ticks": ""
            },
            "type": "choropleth"
           }
          ],
          "contour": [
           {
            "colorbar": {
             "outlinewidth": 0,
             "ticks": ""
            },
            "colorscale": [
             [
              0,
              "#0d0887"
             ],
             [
              0.1111111111111111,
              "#46039f"
             ],
             [
              0.2222222222222222,
              "#7201a8"
             ],
             [
              0.3333333333333333,
              "#9c179e"
             ],
             [
              0.4444444444444444,
              "#bd3786"
             ],
             [
              0.5555555555555556,
              "#d8576b"
             ],
             [
              0.6666666666666666,
              "#ed7953"
             ],
             [
              0.7777777777777778,
              "#fb9f3a"
             ],
             [
              0.8888888888888888,
              "#fdca26"
             ],
             [
              1,
              "#f0f921"
             ]
            ],
            "type": "contour"
           }
          ],
          "contourcarpet": [
           {
            "colorbar": {
             "outlinewidth": 0,
             "ticks": ""
            },
            "type": "contourcarpet"
           }
          ],
          "heatmap": [
           {
            "colorbar": {
             "outlinewidth": 0,
             "ticks": ""
            },
            "colorscale": [
             [
              0,
              "#0d0887"
             ],
             [
              0.1111111111111111,
              "#46039f"
             ],
             [
              0.2222222222222222,
              "#7201a8"
             ],
             [
              0.3333333333333333,
              "#9c179e"
             ],
             [
              0.4444444444444444,
              "#bd3786"
             ],
             [
              0.5555555555555556,
              "#d8576b"
             ],
             [
              0.6666666666666666,
              "#ed7953"
             ],
             [
              0.7777777777777778,
              "#fb9f3a"
             ],
             [
              0.8888888888888888,
              "#fdca26"
             ],
             [
              1,
              "#f0f921"
             ]
            ],
            "type": "heatmap"
           }
          ],
          "heatmapgl": [
           {
            "colorbar": {
             "outlinewidth": 0,
             "ticks": ""
            },
            "colorscale": [
             [
              0,
              "#0d0887"
             ],
             [
              0.1111111111111111,
              "#46039f"
             ],
             [
              0.2222222222222222,
              "#7201a8"
             ],
             [
              0.3333333333333333,
              "#9c179e"
             ],
             [
              0.4444444444444444,
              "#bd3786"
             ],
             [
              0.5555555555555556,
              "#d8576b"
             ],
             [
              0.6666666666666666,
              "#ed7953"
             ],
             [
              0.7777777777777778,
              "#fb9f3a"
             ],
             [
              0.8888888888888888,
              "#fdca26"
             ],
             [
              1,
              "#f0f921"
             ]
            ],
            "type": "heatmapgl"
           }
          ],
          "histogram": [
           {
            "marker": {
             "pattern": {
              "fillmode": "overlay",
              "size": 10,
              "solidity": 0.2
             }
            },
            "type": "histogram"
           }
          ],
          "histogram2d": [
           {
            "colorbar": {
             "outlinewidth": 0,
             "ticks": ""
            },
            "colorscale": [
             [
              0,
              "#0d0887"
             ],
             [
              0.1111111111111111,
              "#46039f"
             ],
             [
              0.2222222222222222,
              "#7201a8"
             ],
             [
              0.3333333333333333,
              "#9c179e"
             ],
             [
              0.4444444444444444,
              "#bd3786"
             ],
             [
              0.5555555555555556,
              "#d8576b"
             ],
             [
              0.6666666666666666,
              "#ed7953"
             ],
             [
              0.7777777777777778,
              "#fb9f3a"
             ],
             [
              0.8888888888888888,
              "#fdca26"
             ],
             [
              1,
              "#f0f921"
             ]
            ],
            "type": "histogram2d"
           }
          ],
          "histogram2dcontour": [
           {
            "colorbar": {
             "outlinewidth": 0,
             "ticks": ""
            },
            "colorscale": [
             [
              0,
              "#0d0887"
             ],
             [
              0.1111111111111111,
              "#46039f"
             ],
             [
              0.2222222222222222,
              "#7201a8"
             ],
             [
              0.3333333333333333,
              "#9c179e"
             ],
             [
              0.4444444444444444,
              "#bd3786"
             ],
             [
              0.5555555555555556,
              "#d8576b"
             ],
             [
              0.6666666666666666,
              "#ed7953"
             ],
             [
              0.7777777777777778,
              "#fb9f3a"
             ],
             [
              0.8888888888888888,
              "#fdca26"
             ],
             [
              1,
              "#f0f921"
             ]
            ],
            "type": "histogram2dcontour"
           }
          ],
          "mesh3d": [
           {
            "colorbar": {
             "outlinewidth": 0,
             "ticks": ""
            },
            "type": "mesh3d"
           }
          ],
          "parcoords": [
           {
            "line": {
             "colorbar": {
              "outlinewidth": 0,
              "ticks": ""
             }
            },
            "type": "parcoords"
           }
          ],
          "pie": [
           {
            "automargin": true,
            "type": "pie"
           }
          ],
          "scatter": [
           {
            "fillpattern": {
             "fillmode": "overlay",
             "size": 10,
             "solidity": 0.2
            },
            "type": "scatter"
           }
          ],
          "scatter3d": [
           {
            "line": {
             "colorbar": {
              "outlinewidth": 0,
              "ticks": ""
             }
            },
            "marker": {
             "colorbar": {
              "outlinewidth": 0,
              "ticks": ""
             }
            },
            "type": "scatter3d"
           }
          ],
          "scattercarpet": [
           {
            "marker": {
             "colorbar": {
              "outlinewidth": 0,
              "ticks": ""
             }
            },
            "type": "scattercarpet"
           }
          ],
          "scattergeo": [
           {
            "marker": {
             "colorbar": {
              "outlinewidth": 0,
              "ticks": ""
             }
            },
            "type": "scattergeo"
           }
          ],
          "scattergl": [
           {
            "marker": {
             "colorbar": {
              "outlinewidth": 0,
              "ticks": ""
             }
            },
            "type": "scattergl"
           }
          ],
          "scattermapbox": [
           {
            "marker": {
             "colorbar": {
              "outlinewidth": 0,
              "ticks": ""
             }
            },
            "type": "scattermapbox"
           }
          ],
          "scatterpolar": [
           {
            "marker": {
             "colorbar": {
              "outlinewidth": 0,
              "ticks": ""
             }
            },
            "type": "scatterpolar"
           }
          ],
          "scatterpolargl": [
           {
            "marker": {
             "colorbar": {
              "outlinewidth": 0,
              "ticks": ""
             }
            },
            "type": "scatterpolargl"
           }
          ],
          "scatterternary": [
           {
            "marker": {
             "colorbar": {
              "outlinewidth": 0,
              "ticks": ""
             }
            },
            "type": "scatterternary"
           }
          ],
          "surface": [
           {
            "colorbar": {
             "outlinewidth": 0,
             "ticks": ""
            },
            "colorscale": [
             [
              0,
              "#0d0887"
             ],
             [
              0.1111111111111111,
              "#46039f"
             ],
             [
              0.2222222222222222,
              "#7201a8"
             ],
             [
              0.3333333333333333,
              "#9c179e"
             ],
             [
              0.4444444444444444,
              "#bd3786"
             ],
             [
              0.5555555555555556,
              "#d8576b"
             ],
             [
              0.6666666666666666,
              "#ed7953"
             ],
             [
              0.7777777777777778,
              "#fb9f3a"
             ],
             [
              0.8888888888888888,
              "#fdca26"
             ],
             [
              1,
              "#f0f921"
             ]
            ],
            "type": "surface"
           }
          ],
          "table": [
           {
            "cells": {
             "fill": {
              "color": "#EBF0F8"
             },
             "line": {
              "color": "white"
             }
            },
            "header": {
             "fill": {
              "color": "#C8D4E3"
             },
             "line": {
              "color": "white"
             }
            },
            "type": "table"
           }
          ]
         },
         "layout": {
          "annotationdefaults": {
           "arrowcolor": "#2a3f5f",
           "arrowhead": 0,
           "arrowwidth": 1
          },
          "autotypenumbers": "strict",
          "coloraxis": {
           "colorbar": {
            "outlinewidth": 0,
            "ticks": ""
           }
          },
          "colorscale": {
           "diverging": [
            [
             0,
             "#8e0152"
            ],
            [
             0.1,
             "#c51b7d"
            ],
            [
             0.2,
             "#de77ae"
            ],
            [
             0.3,
             "#f1b6da"
            ],
            [
             0.4,
             "#fde0ef"
            ],
            [
             0.5,
             "#f7f7f7"
            ],
            [
             0.6,
             "#e6f5d0"
            ],
            [
             0.7,
             "#b8e186"
            ],
            [
             0.8,
             "#7fbc41"
            ],
            [
             0.9,
             "#4d9221"
            ],
            [
             1,
             "#276419"
            ]
           ],
           "sequential": [
            [
             0,
             "#0d0887"
            ],
            [
             0.1111111111111111,
             "#46039f"
            ],
            [
             0.2222222222222222,
             "#7201a8"
            ],
            [
             0.3333333333333333,
             "#9c179e"
            ],
            [
             0.4444444444444444,
             "#bd3786"
            ],
            [
             0.5555555555555556,
             "#d8576b"
            ],
            [
             0.6666666666666666,
             "#ed7953"
            ],
            [
             0.7777777777777778,
             "#fb9f3a"
            ],
            [
             0.8888888888888888,
             "#fdca26"
            ],
            [
             1,
             "#f0f921"
            ]
           ],
           "sequentialminus": [
            [
             0,
             "#0d0887"
            ],
            [
             0.1111111111111111,
             "#46039f"
            ],
            [
             0.2222222222222222,
             "#7201a8"
            ],
            [
             0.3333333333333333,
             "#9c179e"
            ],
            [
             0.4444444444444444,
             "#bd3786"
            ],
            [
             0.5555555555555556,
             "#d8576b"
            ],
            [
             0.6666666666666666,
             "#ed7953"
            ],
            [
             0.7777777777777778,
             "#fb9f3a"
            ],
            [
             0.8888888888888888,
             "#fdca26"
            ],
            [
             1,
             "#f0f921"
            ]
           ]
          },
          "colorway": [
           "#636efa",
           "#EF553B",
           "#00cc96",
           "#ab63fa",
           "#FFA15A",
           "#19d3f3",
           "#FF6692",
           "#B6E880",
           "#FF97FF",
           "#FECB52"
          ],
          "font": {
           "color": "#2a3f5f"
          },
          "geo": {
           "bgcolor": "white",
           "lakecolor": "white",
           "landcolor": "white",
           "showlakes": true,
           "showland": true,
           "subunitcolor": "#C8D4E3"
          },
          "hoverlabel": {
           "align": "left"
          },
          "hovermode": "closest",
          "mapbox": {
           "style": "light"
          },
          "paper_bgcolor": "white",
          "plot_bgcolor": "white",
          "polar": {
           "angularaxis": {
            "gridcolor": "#EBF0F8",
            "linecolor": "#EBF0F8",
            "ticks": ""
           },
           "bgcolor": "white",
           "radialaxis": {
            "gridcolor": "#EBF0F8",
            "linecolor": "#EBF0F8",
            "ticks": ""
           }
          },
          "scene": {
           "xaxis": {
            "backgroundcolor": "white",
            "gridcolor": "#DFE8F3",
            "gridwidth": 2,
            "linecolor": "#EBF0F8",
            "showbackground": true,
            "ticks": "",
            "zerolinecolor": "#EBF0F8"
           },
           "yaxis": {
            "backgroundcolor": "white",
            "gridcolor": "#DFE8F3",
            "gridwidth": 2,
            "linecolor": "#EBF0F8",
            "showbackground": true,
            "ticks": "",
            "zerolinecolor": "#EBF0F8"
           },
           "zaxis": {
            "backgroundcolor": "white",
            "gridcolor": "#DFE8F3",
            "gridwidth": 2,
            "linecolor": "#EBF0F8",
            "showbackground": true,
            "ticks": "",
            "zerolinecolor": "#EBF0F8"
           }
          },
          "shapedefaults": {
           "line": {
            "color": "#2a3f5f"
           }
          },
          "ternary": {
           "aaxis": {
            "gridcolor": "#DFE8F3",
            "linecolor": "#A2B1C6",
            "ticks": ""
           },
           "baxis": {
            "gridcolor": "#DFE8F3",
            "linecolor": "#A2B1C6",
            "ticks": ""
           },
           "bgcolor": "white",
           "caxis": {
            "gridcolor": "#DFE8F3",
            "linecolor": "#A2B1C6",
            "ticks": ""
           }
          },
          "title": {
           "x": 0.05
          },
          "xaxis": {
           "automargin": true,
           "gridcolor": "#EBF0F8",
           "linecolor": "#EBF0F8",
           "ticks": "",
           "title": {
            "standoff": 15
           },
           "zerolinecolor": "#EBF0F8",
           "zerolinewidth": 2
          },
          "yaxis": {
           "automargin": true,
           "gridcolor": "#EBF0F8",
           "linecolor": "#EBF0F8",
           "ticks": "",
           "title": {
            "standoff": 15
           },
           "zerolinecolor": "#EBF0F8",
           "zerolinewidth": 2
          }
         }
        },
        "width": 1200,
        "xaxis": {
         "tickangle": -90,
         "title": {
          "text": "state"
         }
        },
        "yaxis": {
         "title": {
          "text": "weight"
         }
        }
       }
      }
     },
     "metadata": {},
     "output_type": "display_data"
    }
   ],
   "source": [
    "state = df.filter(pl.col(\"state\")!=\"California\")['state'].unique()\n",
    "fig = go.Figure()\n",
    "\n",
    "fig.add_trace(\n",
    "    go.Bar(\n",
    "        x=state,\n",
    "        y=alpha_scm,\n",
    "        name=\"SCM\"\n",
    "    )\n",
    ")\n",
    "\n",
    "fig.add_trace(\n",
    "    go.Bar(\n",
    "        x=state,\n",
    "        y=alpha_OLS,\n",
    "        name=\"OLS\"\n",
    "    )\n",
    ")\n",
    "fig.update_layout(\n",
    "    template='plotly_white',\n",
    "    legend=dict(\n",
    "    orientation=\"h\",\n",
    "    yanchor=\"bottom\",\n",
    "    y=1.02,\n",
    "    xanchor=\"right\",\n",
    "    x=1\n",
    "    ),\n",
    "    xaxis_title=\"state\",\n",
    "    yaxis_title=\"weight\",\n",
    "    xaxis_tickangle=270,\n",
    "    width=1200,\n",
    "    height=600,\n",
    ")"
   ]
  },
  {
   "cell_type": "code",
   "execution_count": 364,
   "metadata": {},
   "outputs": [
    {
     "data": {
      "application/vnd.plotly.v1+json": {
       "config": {
        "plotlyServerURL": "https://plot.ly"
       },
       "data": [
        {
         "name": "Utah",
         "type": "scatter",
         "x": [
          1970,
          1971,
          1972,
          1973,
          1974,
          1975,
          1976,
          1977,
          1978,
          1979,
          1980,
          1981,
          1982,
          1983,
          1984,
          1985,
          1986,
          1987,
          1988,
          1989,
          1990,
          1991,
          1992,
          1993,
          1994,
          1995,
          1996,
          1997,
          1998,
          1999,
          2000
         ],
         "y": [
          123,
          121,
          123.5,
          124.4000015258789,
          126.69999694824219,
          127.0999984741211,
          128,
          126.4000015258789,
          126.0999984741211,
          121.9000015258789,
          120.19999694824219,
          118.5999984741211,
          115.4000015258789,
          110.80000305175781,
          104.80000305175781,
          102.80000305175781,
          99.69999694824219,
          97.5,
          90.0999984741211,
          82.4000015258789,
          77.80000305175781,
          68.69999694824219,
          67.5,
          63.400001525878906,
          58.599998474121094,
          56.400001525878906,
          54.5,
          53.79999923706055,
          52.29999923706055,
          47.20000076293945,
          41.599998474121094
         ]
        },
        {
         "name": "Connecticut",
         "opacity": 0.5,
         "type": "scatter",
         "x": [
          1970,
          1971,
          1972,
          1973,
          1974,
          1975,
          1976,
          1977,
          1978,
          1979,
          1980,
          1981,
          1982,
          1983,
          1984,
          1985,
          1986,
          1987,
          1988,
          1989,
          1990,
          1991,
          1992,
          1993,
          1994,
          1995,
          1996,
          1997,
          1998,
          1999,
          2000
         ],
         "y": [
          120,
          117.5999984741211,
          110.80000305175781,
          109.30000305175781,
          112.4000015258789,
          110.19999694824219,
          113.4000015258789,
          117.30000305175781,
          117.5,
          117.4000015258789,
          118,
          116.4000015258789,
          114.69999694824219,
          114.0999984741211,
          112.5,
          111,
          108.5,
          109,
          104.80000305175781,
          100.5999984741211,
          91.5,
          86.69999694824219,
          83.5,
          79.0999984741211,
          76.5999984741211,
          79.30000305175781,
          76,
          75.9000015258789,
          75.5,
          73.4000015258789,
          71.4000015258789
         ]
        },
        {
         "name": "Nevada",
         "opacity": 0.5,
         "type": "scatter",
         "x": [
          1970,
          1971,
          1972,
          1973,
          1974,
          1975,
          1976,
          1977,
          1978,
          1979,
          1980,
          1981,
          1982,
          1983,
          1984,
          1985,
          1986,
          1987,
          1988,
          1989,
          1990,
          1991,
          1992,
          1993,
          1994,
          1995,
          1996,
          1997,
          1998,
          1999,
          2000
         ],
         "y": [
          189.5,
          190.5,
          198.60000610351562,
          201.5,
          204.6999969482422,
          205.1999969482422,
          201.39999389648438,
          190.8000030517578,
          187,
          183.3000030517578,
          177.6999969482422,
          171.89999389648438,
          165.10000610351562,
          159.1999969482422,
          136.60000610351562,
          146.6999969482422,
          142.60000610351562,
          147.6999969482422,
          141.89999389648438,
          137.89999389648438,
          137.3000030517578,
          115.5,
          110,
          108.0999984741211,
          105.19999694824219,
          100.9000015258789,
          99,
          95.5999984741211,
          102.4000015258789,
          103.9000015258789,
          93.19999694824219
         ]
        },
        {
         "name": "New Hampshire",
         "opacity": 0.5,
         "type": "scatter",
         "x": [
          1970,
          1971,
          1972,
          1973,
          1974,
          1975,
          1976,
          1977,
          1978,
          1979,
          1980,
          1981,
          1982,
          1983,
          1984,
          1985,
          1986,
          1987,
          1988,
          1989,
          1990,
          1991,
          1992,
          1993,
          1994,
          1995,
          1996,
          1997,
          1998,
          1999,
          2000
         ],
         "y": [
          265.70001220703125,
          278,
          296.20001220703125,
          279,
          269.79998779296875,
          269.1000061035156,
          290.5,
          278.79998779296875,
          269.6000061035156,
          254.60000610351562,
          247.8000030517578,
          245.39999389648438,
          239.8000030517578,
          232.89999389648438,
          215.10000610351562,
          201.10000610351562,
          195.89999389648438,
          195.10000610351562,
          180.39999389648438,
          172.89999389648438,
          152.39999389648438,
          144.8000030517578,
          143.6999969482422,
          148.89999389648438,
          153.8000030517578,
          158.5,
          158,
          174.39999389648438,
          173.8000030517578,
          171.6999969482422,
          147.3000030517578
         ]
        },
        {
         "name": "New Mexico",
         "opacity": 0.5,
         "type": "scatter",
         "x": [
          1970,
          1971,
          1972,
          1973,
          1974,
          1975,
          1976,
          1977,
          1978,
          1979,
          1980,
          1981,
          1982,
          1983,
          1984,
          1985,
          1986,
          1987,
          1988,
          1989,
          1990,
          1991,
          1992,
          1993,
          1994,
          1995,
          1996,
          1997,
          1998,
          1999,
          2000
         ],
         "y": [
          90,
          92.5999984741211,
          99.30000305175781,
          98.9000015258789,
          100.30000305175781,
          103.0999984741211,
          102.4000015258789,
          102.4000015258789,
          103.0999984741211,
          101,
          102.69999694824219,
          103,
          97.5,
          96.30000305175781,
          88.9000015258789,
          88,
          88.19999694824219,
          82.30000305175781,
          77.69999694824219,
          74.4000015258789,
          70.80000305175781,
          69.9000015258789,
          71.4000015258789,
          69,
          68.19999694824219,
          67,
          65.69999694824219,
          61.79999923706055,
          62.599998474121094,
          59.70000076293945,
          53.79999923706055
         ]
        },
        {
         "name": "Utah",
         "opacity": 0.5,
         "type": "scatter",
         "x": [
          1970,
          1971,
          1972,
          1973,
          1974,
          1975,
          1976,
          1977,
          1978,
          1979,
          1980,
          1981,
          1982,
          1983,
          1984,
          1985,
          1986,
          1987,
          1988,
          1989,
          1990,
          1991,
          1992,
          1993,
          1994,
          1995,
          1996,
          1997,
          1998,
          1999,
          2000
         ],
         "y": [
          65.5,
          67.69999694824219,
          71.30000305175781,
          72.69999694824219,
          75.5999984741211,
          75.80000305175781,
          77.9000015258789,
          78,
          79.5999984741211,
          79.0999984741211,
          74.80000305175781,
          77.5999984741211,
          73.5999984741211,
          69,
          66.30000305175781,
          66.5,
          64.4000015258789,
          67.69999694824219,
          55,
          57,
          53.400001525878906,
          53.5,
          55,
          56.20000076293945,
          55.79999923706055,
          52,
          54,
          57,
          42.29999923706055,
          43.900001525878906,
          40.70000076293945
         ]
        }
       ],
       "layout": {
        "height": 600,
        "legend": {
         "orientation": "h",
         "x": 1,
         "xanchor": "right",
         "y": 1.02,
         "yanchor": "bottom"
        },
        "template": {
         "data": {
          "bar": [
           {
            "error_x": {
             "color": "#2a3f5f"
            },
            "error_y": {
             "color": "#2a3f5f"
            },
            "marker": {
             "line": {
              "color": "white",
              "width": 0.5
             },
             "pattern": {
              "fillmode": "overlay",
              "size": 10,
              "solidity": 0.2
             }
            },
            "type": "bar"
           }
          ],
          "barpolar": [
           {
            "marker": {
             "line": {
              "color": "white",
              "width": 0.5
             },
             "pattern": {
              "fillmode": "overlay",
              "size": 10,
              "solidity": 0.2
             }
            },
            "type": "barpolar"
           }
          ],
          "carpet": [
           {
            "aaxis": {
             "endlinecolor": "#2a3f5f",
             "gridcolor": "#C8D4E3",
             "linecolor": "#C8D4E3",
             "minorgridcolor": "#C8D4E3",
             "startlinecolor": "#2a3f5f"
            },
            "baxis": {
             "endlinecolor": "#2a3f5f",
             "gridcolor": "#C8D4E3",
             "linecolor": "#C8D4E3",
             "minorgridcolor": "#C8D4E3",
             "startlinecolor": "#2a3f5f"
            },
            "type": "carpet"
           }
          ],
          "choropleth": [
           {
            "colorbar": {
             "outlinewidth": 0,
             "ticks": ""
            },
            "type": "choropleth"
           }
          ],
          "contour": [
           {
            "colorbar": {
             "outlinewidth": 0,
             "ticks": ""
            },
            "colorscale": [
             [
              0,
              "#0d0887"
             ],
             [
              0.1111111111111111,
              "#46039f"
             ],
             [
              0.2222222222222222,
              "#7201a8"
             ],
             [
              0.3333333333333333,
              "#9c179e"
             ],
             [
              0.4444444444444444,
              "#bd3786"
             ],
             [
              0.5555555555555556,
              "#d8576b"
             ],
             [
              0.6666666666666666,
              "#ed7953"
             ],
             [
              0.7777777777777778,
              "#fb9f3a"
             ],
             [
              0.8888888888888888,
              "#fdca26"
             ],
             [
              1,
              "#f0f921"
             ]
            ],
            "type": "contour"
           }
          ],
          "contourcarpet": [
           {
            "colorbar": {
             "outlinewidth": 0,
             "ticks": ""
            },
            "type": "contourcarpet"
           }
          ],
          "heatmap": [
           {
            "colorbar": {
             "outlinewidth": 0,
             "ticks": ""
            },
            "colorscale": [
             [
              0,
              "#0d0887"
             ],
             [
              0.1111111111111111,
              "#46039f"
             ],
             [
              0.2222222222222222,
              "#7201a8"
             ],
             [
              0.3333333333333333,
              "#9c179e"
             ],
             [
              0.4444444444444444,
              "#bd3786"
             ],
             [
              0.5555555555555556,
              "#d8576b"
             ],
             [
              0.6666666666666666,
              "#ed7953"
             ],
             [
              0.7777777777777778,
              "#fb9f3a"
             ],
             [
              0.8888888888888888,
              "#fdca26"
             ],
             [
              1,
              "#f0f921"
             ]
            ],
            "type": "heatmap"
           }
          ],
          "heatmapgl": [
           {
            "colorbar": {
             "outlinewidth": 0,
             "ticks": ""
            },
            "colorscale": [
             [
              0,
              "#0d0887"
             ],
             [
              0.1111111111111111,
              "#46039f"
             ],
             [
              0.2222222222222222,
              "#7201a8"
             ],
             [
              0.3333333333333333,
              "#9c179e"
             ],
             [
              0.4444444444444444,
              "#bd3786"
             ],
             [
              0.5555555555555556,
              "#d8576b"
             ],
             [
              0.6666666666666666,
              "#ed7953"
             ],
             [
              0.7777777777777778,
              "#fb9f3a"
             ],
             [
              0.8888888888888888,
              "#fdca26"
             ],
             [
              1,
              "#f0f921"
             ]
            ],
            "type": "heatmapgl"
           }
          ],
          "histogram": [
           {
            "marker": {
             "pattern": {
              "fillmode": "overlay",
              "size": 10,
              "solidity": 0.2
             }
            },
            "type": "histogram"
           }
          ],
          "histogram2d": [
           {
            "colorbar": {
             "outlinewidth": 0,
             "ticks": ""
            },
            "colorscale": [
             [
              0,
              "#0d0887"
             ],
             [
              0.1111111111111111,
              "#46039f"
             ],
             [
              0.2222222222222222,
              "#7201a8"
             ],
             [
              0.3333333333333333,
              "#9c179e"
             ],
             [
              0.4444444444444444,
              "#bd3786"
             ],
             [
              0.5555555555555556,
              "#d8576b"
             ],
             [
              0.6666666666666666,
              "#ed7953"
             ],
             [
              0.7777777777777778,
              "#fb9f3a"
             ],
             [
              0.8888888888888888,
              "#fdca26"
             ],
             [
              1,
              "#f0f921"
             ]
            ],
            "type": "histogram2d"
           }
          ],
          "histogram2dcontour": [
           {
            "colorbar": {
             "outlinewidth": 0,
             "ticks": ""
            },
            "colorscale": [
             [
              0,
              "#0d0887"
             ],
             [
              0.1111111111111111,
              "#46039f"
             ],
             [
              0.2222222222222222,
              "#7201a8"
             ],
             [
              0.3333333333333333,
              "#9c179e"
             ],
             [
              0.4444444444444444,
              "#bd3786"
             ],
             [
              0.5555555555555556,
              "#d8576b"
             ],
             [
              0.6666666666666666,
              "#ed7953"
             ],
             [
              0.7777777777777778,
              "#fb9f3a"
             ],
             [
              0.8888888888888888,
              "#fdca26"
             ],
             [
              1,
              "#f0f921"
             ]
            ],
            "type": "histogram2dcontour"
           }
          ],
          "mesh3d": [
           {
            "colorbar": {
             "outlinewidth": 0,
             "ticks": ""
            },
            "type": "mesh3d"
           }
          ],
          "parcoords": [
           {
            "line": {
             "colorbar": {
              "outlinewidth": 0,
              "ticks": ""
             }
            },
            "type": "parcoords"
           }
          ],
          "pie": [
           {
            "automargin": true,
            "type": "pie"
           }
          ],
          "scatter": [
           {
            "fillpattern": {
             "fillmode": "overlay",
             "size": 10,
             "solidity": 0.2
            },
            "type": "scatter"
           }
          ],
          "scatter3d": [
           {
            "line": {
             "colorbar": {
              "outlinewidth": 0,
              "ticks": ""
             }
            },
            "marker": {
             "colorbar": {
              "outlinewidth": 0,
              "ticks": ""
             }
            },
            "type": "scatter3d"
           }
          ],
          "scattercarpet": [
           {
            "marker": {
             "colorbar": {
              "outlinewidth": 0,
              "ticks": ""
             }
            },
            "type": "scattercarpet"
           }
          ],
          "scattergeo": [
           {
            "marker": {
             "colorbar": {
              "outlinewidth": 0,
              "ticks": ""
             }
            },
            "type": "scattergeo"
           }
          ],
          "scattergl": [
           {
            "marker": {
             "colorbar": {
              "outlinewidth": 0,
              "ticks": ""
             }
            },
            "type": "scattergl"
           }
          ],
          "scattermapbox": [
           {
            "marker": {
             "colorbar": {
              "outlinewidth": 0,
              "ticks": ""
             }
            },
            "type": "scattermapbox"
           }
          ],
          "scatterpolar": [
           {
            "marker": {
             "colorbar": {
              "outlinewidth": 0,
              "ticks": ""
             }
            },
            "type": "scatterpolar"
           }
          ],
          "scatterpolargl": [
           {
            "marker": {
             "colorbar": {
              "outlinewidth": 0,
              "ticks": ""
             }
            },
            "type": "scatterpolargl"
           }
          ],
          "scatterternary": [
           {
            "marker": {
             "colorbar": {
              "outlinewidth": 0,
              "ticks": ""
             }
            },
            "type": "scatterternary"
           }
          ],
          "surface": [
           {
            "colorbar": {
             "outlinewidth": 0,
             "ticks": ""
            },
            "colorscale": [
             [
              0,
              "#0d0887"
             ],
             [
              0.1111111111111111,
              "#46039f"
             ],
             [
              0.2222222222222222,
              "#7201a8"
             ],
             [
              0.3333333333333333,
              "#9c179e"
             ],
             [
              0.4444444444444444,
              "#bd3786"
             ],
             [
              0.5555555555555556,
              "#d8576b"
             ],
             [
              0.6666666666666666,
              "#ed7953"
             ],
             [
              0.7777777777777778,
              "#fb9f3a"
             ],
             [
              0.8888888888888888,
              "#fdca26"
             ],
             [
              1,
              "#f0f921"
             ]
            ],
            "type": "surface"
           }
          ],
          "table": [
           {
            "cells": {
             "fill": {
              "color": "#EBF0F8"
             },
             "line": {
              "color": "white"
             }
            },
            "header": {
             "fill": {
              "color": "#C8D4E3"
             },
             "line": {
              "color": "white"
             }
            },
            "type": "table"
           }
          ]
         },
         "layout": {
          "annotationdefaults": {
           "arrowcolor": "#2a3f5f",
           "arrowhead": 0,
           "arrowwidth": 1
          },
          "autotypenumbers": "strict",
          "coloraxis": {
           "colorbar": {
            "outlinewidth": 0,
            "ticks": ""
           }
          },
          "colorscale": {
           "diverging": [
            [
             0,
             "#8e0152"
            ],
            [
             0.1,
             "#c51b7d"
            ],
            [
             0.2,
             "#de77ae"
            ],
            [
             0.3,
             "#f1b6da"
            ],
            [
             0.4,
             "#fde0ef"
            ],
            [
             0.5,
             "#f7f7f7"
            ],
            [
             0.6,
             "#e6f5d0"
            ],
            [
             0.7,
             "#b8e186"
            ],
            [
             0.8,
             "#7fbc41"
            ],
            [
             0.9,
             "#4d9221"
            ],
            [
             1,
             "#276419"
            ]
           ],
           "sequential": [
            [
             0,
             "#0d0887"
            ],
            [
             0.1111111111111111,
             "#46039f"
            ],
            [
             0.2222222222222222,
             "#7201a8"
            ],
            [
             0.3333333333333333,
             "#9c179e"
            ],
            [
             0.4444444444444444,
             "#bd3786"
            ],
            [
             0.5555555555555556,
             "#d8576b"
            ],
            [
             0.6666666666666666,
             "#ed7953"
            ],
            [
             0.7777777777777778,
             "#fb9f3a"
            ],
            [
             0.8888888888888888,
             "#fdca26"
            ],
            [
             1,
             "#f0f921"
            ]
           ],
           "sequentialminus": [
            [
             0,
             "#0d0887"
            ],
            [
             0.1111111111111111,
             "#46039f"
            ],
            [
             0.2222222222222222,
             "#7201a8"
            ],
            [
             0.3333333333333333,
             "#9c179e"
            ],
            [
             0.4444444444444444,
             "#bd3786"
            ],
            [
             0.5555555555555556,
             "#d8576b"
            ],
            [
             0.6666666666666666,
             "#ed7953"
            ],
            [
             0.7777777777777778,
             "#fb9f3a"
            ],
            [
             0.8888888888888888,
             "#fdca26"
            ],
            [
             1,
             "#f0f921"
            ]
           ]
          },
          "colorway": [
           "#636efa",
           "#EF553B",
           "#00cc96",
           "#ab63fa",
           "#FFA15A",
           "#19d3f3",
           "#FF6692",
           "#B6E880",
           "#FF97FF",
           "#FECB52"
          ],
          "font": {
           "color": "#2a3f5f"
          },
          "geo": {
           "bgcolor": "white",
           "lakecolor": "white",
           "landcolor": "white",
           "showlakes": true,
           "showland": true,
           "subunitcolor": "#C8D4E3"
          },
          "hoverlabel": {
           "align": "left"
          },
          "hovermode": "closest",
          "mapbox": {
           "style": "light"
          },
          "paper_bgcolor": "white",
          "plot_bgcolor": "white",
          "polar": {
           "angularaxis": {
            "gridcolor": "#EBF0F8",
            "linecolor": "#EBF0F8",
            "ticks": ""
           },
           "bgcolor": "white",
           "radialaxis": {
            "gridcolor": "#EBF0F8",
            "linecolor": "#EBF0F8",
            "ticks": ""
           }
          },
          "scene": {
           "xaxis": {
            "backgroundcolor": "white",
            "gridcolor": "#DFE8F3",
            "gridwidth": 2,
            "linecolor": "#EBF0F8",
            "showbackground": true,
            "ticks": "",
            "zerolinecolor": "#EBF0F8"
           },
           "yaxis": {
            "backgroundcolor": "white",
            "gridcolor": "#DFE8F3",
            "gridwidth": 2,
            "linecolor": "#EBF0F8",
            "showbackground": true,
            "ticks": "",
            "zerolinecolor": "#EBF0F8"
           },
           "zaxis": {
            "backgroundcolor": "white",
            "gridcolor": "#DFE8F3",
            "gridwidth": 2,
            "linecolor": "#EBF0F8",
            "showbackground": true,
            "ticks": "",
            "zerolinecolor": "#EBF0F8"
           }
          },
          "shapedefaults": {
           "line": {
            "color": "#2a3f5f"
           }
          },
          "ternary": {
           "aaxis": {
            "gridcolor": "#DFE8F3",
            "linecolor": "#A2B1C6",
            "ticks": ""
           },
           "baxis": {
            "gridcolor": "#DFE8F3",
            "linecolor": "#A2B1C6",
            "ticks": ""
           },
           "bgcolor": "white",
           "caxis": {
            "gridcolor": "#DFE8F3",
            "linecolor": "#A2B1C6",
            "ticks": ""
           }
          },
          "title": {
           "x": 0.05
          },
          "xaxis": {
           "automargin": true,
           "gridcolor": "#EBF0F8",
           "linecolor": "#EBF0F8",
           "ticks": "",
           "title": {
            "standoff": 15
           },
           "zerolinecolor": "#EBF0F8",
           "zerolinewidth": 2
          },
          "yaxis": {
           "automargin": true,
           "gridcolor": "#EBF0F8",
           "linecolor": "#EBF0F8",
           "ticks": "",
           "title": {
            "standoff": 15
           },
           "zerolinecolor": "#EBF0F8",
           "zerolinewidth": 2
          }
         }
        },
        "width": 1200,
        "xaxis": {
         "title": {
          "text": "year"
         }
        },
        "yaxis": {
         "title": {
          "text": "cigarette sales (in packs)"
         }
        }
       }
      }
     },
     "metadata": {},
     "output_type": "display_data"
    }
   ],
   "source": [
    "state_used = [\"Connecticut\", \"Nevada\", \"New Hampshire\", \"New Mexico\", \"Utah\"]\n",
    "# df.filter(pl.col('state').is_in(state_used))\n",
    "fig = go.Figure()\n",
    "fig.add_trace(\n",
    "        go.Scatter(\n",
    "            x=year,\n",
    "            y=df.filter(pl.col(\"state\")==\"California\")['cigsale'],\n",
    "            name=c\n",
    "        )\n",
    "    )\n",
    "for c in state_used:\n",
    "    fig.add_trace(\n",
    "        go.Scatter(\n",
    "            x=year,\n",
    "            y=df.filter(pl.col(\"state\")==c)['cigsale'],\n",
    "            name=c,\n",
    "            # line=dict({\"color\":'gray'}),\n",
    "            opacity=0.5\n",
    "        )\n",
    "    )\n",
    "\n",
    "fig.update_layout(\n",
    "    template='plotly_white',\n",
    "    xaxis_title='year',\n",
    "    yaxis_title='cigarette sales (in packs)',\n",
    "    legend=dict(\n",
    "    orientation=\"h\",\n",
    "    yanchor=\"bottom\",\n",
    "    y=1.02,\n",
    "    xanchor=\"right\",\n",
    "    x=1\n",
    "    ),\n",
    "    width=1200,\n",
    "    height=600,\n",
    ")\n",
    "fig.show()"
   ]
  },
  {
   "cell_type": "code",
   "execution_count": null,
   "metadata": {},
   "outputs": [],
   "source": []
  }
 ],
 "metadata": {
  "kernelspec": {
   "display_name": "Python 3",
   "language": "python",
   "name": "python3"
  },
  "language_info": {
   "codemirror_mode": {
    "name": "ipython",
    "version": 3
   },
   "file_extension": ".py",
   "mimetype": "text/x-python",
   "name": "python",
   "nbconvert_exporter": "python",
   "pygments_lexer": "ipython3",
   "version": "3.9.10"
  }
 },
 "nbformat": 4,
 "nbformat_minor": 2
}
